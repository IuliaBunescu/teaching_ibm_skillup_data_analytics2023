{
 "cells": [
  {
   "cell_type": "markdown",
   "id": "01872cf2",
   "metadata": {},
   "source": [
    "# Python: pandas. Practice and exercises"
   ]
  },
  {
   "cell_type": "markdown",
   "id": "96ac98e4",
   "metadata": {},
   "source": [
    "**NOTES**\n",
    "\n",
    " - There are many ways to solve each problem, find yours.\n",
    "\n",
    " - Create the extra cells you need.\n",
    "\n",
    " - Remember that a cell can be a Code cell or a Markdown cell. Use the latter to write text and explanations if needed.\n",
    "\n",
    " - Try to create variables when solving the exercises.\n",
    "\n",
    " - You can rely on the Internet: all programmers do it every day."
   ]
  },
  {
   "cell_type": "markdown",
   "id": "2ba29cfa",
   "metadata": {},
   "source": [
    "<img width=500 src=\"https://upload.wikimedia.org/wikipedia/commons/3/31/TitanicBeken.jpg\">"
   ]
  },
  {
   "cell_type": "markdown",
   "id": "f5e9b5f8",
   "metadata": {},
   "source": [
    "Import the csv of the titanic to a dataframe"
   ]
  },
  {
   "cell_type": "code",
   "execution_count": null,
   "id": "b951a413",
   "metadata": {},
   "outputs": [],
   "source": [
    "import pandas as pd"
   ]
  },
  {
   "cell_type": "code",
   "execution_count": null,
   "id": "8fba2802",
   "metadata": {},
   "outputs": [],
   "source": [
    "df = pd.read_csv(\"../datasets/titanic.csv\")"
   ]
  },
  {
   "cell_type": "markdown",
   "id": "0228e51b",
   "metadata": {},
   "source": [
    "Take a look at the first rows of the dataframe"
   ]
  },
  {
   "cell_type": "code",
   "execution_count": null,
   "id": "e384320c",
   "metadata": {},
   "outputs": [],
   "source": []
  },
  {
   "cell_type": "markdown",
   "id": "a51e5fde",
   "metadata": {},
   "source": [
    "How many passengers are in this dataframe?"
   ]
  },
  {
   "cell_type": "code",
   "execution_count": null,
   "id": "d391a6cb",
   "metadata": {},
   "outputs": [],
   "source": []
  },
  {
   "cell_type": "markdown",
   "id": "932d044f",
   "metadata": {},
   "source": [
    "What are the columns of the dataframe?"
   ]
  },
  {
   "cell_type": "code",
   "execution_count": null,
   "id": "8f14eaf3",
   "metadata": {},
   "outputs": [],
   "source": []
  },
  {
   "cell_type": "markdown",
   "id": "dbd09ac2",
   "metadata": {},
   "source": [
    "Lists columns of numeric type"
   ]
  },
  {
   "cell_type": "code",
   "execution_count": null,
   "id": "df9b99d6",
   "metadata": {},
   "outputs": [],
   "source": []
  },
  {
   "cell_type": "markdown",
   "id": "fc60644c",
   "metadata": {},
   "source": [
    "What is the average age of the passengers? And the median? How do you interpret the result?"
   ]
  },
  {
   "cell_type": "code",
   "execution_count": null,
   "id": "7ffd84d9",
   "metadata": {},
   "outputs": [],
   "source": []
  },
  {
   "cell_type": "markdown",
   "id": "af281c80",
   "metadata": {},
   "source": [
    "How much did the most expensive ticket cost? Who paid for it?"
   ]
  },
  {
   "cell_type": "code",
   "execution_count": null,
   "id": "54ad6530",
   "metadata": {},
   "outputs": [],
   "source": []
  },
  {
   "cell_type": "markdown",
   "id": "8cd3213d",
   "metadata": {},
   "source": [
    "How much did all the passengers pay?"
   ]
  },
  {
   "cell_type": "code",
   "execution_count": null,
   "id": "b322593f",
   "metadata": {},
   "outputs": [],
   "source": []
  },
  {
   "cell_type": "markdown",
   "id": "0b3658c2",
   "metadata": {},
   "source": [
    "It would be necessary to check if there is any missing data:"
   ]
  },
  {
   "cell_type": "code",
   "execution_count": null,
   "id": "b634ee3b",
   "metadata": {},
   "outputs": [],
   "source": []
  },
  {
   "cell_type": "markdown",
   "id": "238c32ba",
   "metadata": {},
   "source": [
    "Who was the youngest passenger and how old was he/she?"
   ]
  },
  {
   "cell_type": "code",
   "execution_count": null,
   "id": "8714fab4",
   "metadata": {},
   "outputs": [],
   "source": []
  },
  {
   "cell_type": "markdown",
   "id": "7dbae9f4",
   "metadata": {},
   "source": [
    "How many passengers were under 20? What percentage?"
   ]
  },
  {
   "cell_type": "code",
   "execution_count": null,
   "id": "6e6319d2",
   "metadata": {},
   "outputs": [],
   "source": []
  },
  {
   "cell_type": "markdown",
   "id": "3997be74",
   "metadata": {},
   "source": [
    "What is age decile 9?"
   ]
  },
  {
   "cell_type": "code",
   "execution_count": null,
   "id": "66ca8c42",
   "metadata": {},
   "outputs": [],
   "source": []
  },
  {
   "cell_type": "markdown",
   "id": "6583564b",
   "metadata": {},
   "source": [
    "How many people survived? How many died?"
   ]
  },
  {
   "cell_type": "code",
   "execution_count": null,
   "id": "e6cd06f9",
   "metadata": {},
   "outputs": [],
   "source": []
  },
  {
   "cell_type": "markdown",
   "id": "f80c60a3",
   "metadata": {},
   "source": [
    "How many people were traveling in each class?"
   ]
  },
  {
   "cell_type": "code",
   "execution_count": null,
   "id": "d83990c8",
   "metadata": {},
   "outputs": [],
   "source": []
  },
  {
   "cell_type": "markdown",
   "id": "cada751a",
   "metadata": {},
   "source": [
    "Was it more likely to survive being first class?"
   ]
  },
  {
   "cell_type": "code",
   "execution_count": null,
   "id": "389b8ec6",
   "metadata": {},
   "outputs": [],
   "source": []
  },
  {
   "cell_type": "markdown",
   "id": "d079ec58",
   "metadata": {},
   "source": [
    "Was it more likely to survive as a woman?"
   ]
  },
  {
   "cell_type": "code",
   "execution_count": null,
   "id": "e43da29e",
   "metadata": {},
   "outputs": [],
   "source": []
  },
  {
   "cell_type": "markdown",
   "id": "cae705e4",
   "metadata": {},
   "source": [
    "How many family members did people travel with (reported in the SibSp column)?"
   ]
  },
  {
   "cell_type": "code",
   "execution_count": null,
   "id": "8184f53b",
   "metadata": {},
   "outputs": [],
   "source": []
  },
  {
   "cell_type": "markdown",
   "id": "ffac6be0",
   "metadata": {},
   "source": [
    "How many boarding gates were there?"
   ]
  },
  {
   "cell_type": "code",
   "execution_count": null,
   "id": "6583c7cc",
   "metadata": {},
   "outputs": [],
   "source": []
  },
  {
   "cell_type": "markdown",
   "id": "e1532584",
   "metadata": {},
   "source": [
    "Create a dataframe with the people who traveled in first class"
   ]
  },
  {
   "cell_type": "code",
   "execution_count": null,
   "id": "ba577b70",
   "metadata": {},
   "outputs": [],
   "source": []
  },
  {
   "cell_type": "markdown",
   "id": "cb9ebc50",
   "metadata": {},
   "source": [
    "Creates a dataframe containing women and children"
   ]
  },
  {
   "cell_type": "code",
   "execution_count": null,
   "id": "c902b328",
   "metadata": {},
   "outputs": [],
   "source": []
  },
  {
   "cell_type": "markdown",
   "id": "f8a1aa3b",
   "metadata": {},
   "source": [
    "Create a dataframe with the people who will not travel on the `S`."
   ]
  },
  {
   "cell_type": "code",
   "execution_count": null,
   "id": "bba13749",
   "metadata": {},
   "outputs": [],
   "source": []
  },
  {
   "cell_type": "markdown",
   "id": "4e88d1d3",
   "metadata": {},
   "source": [
    "Create a dataframe with all the \"Miss\" passengers"
   ]
  },
  {
   "cell_type": "code",
   "execution_count": null,
   "id": "8bb615ed",
   "metadata": {},
   "outputs": [],
   "source": []
  },
  {
   "cell_type": "markdown",
   "id": "b3b3336b",
   "metadata": {},
   "source": [
    "Create a column that stores the passenger's first last name"
   ]
  },
  {
   "cell_type": "code",
   "execution_count": null,
   "id": "77007257",
   "metadata": {},
   "outputs": [],
   "source": []
  },
  {
   "cell_type": "markdown",
   "id": "1529b7b2",
   "metadata": {},
   "source": [
    "Create a Boolean column that stores whether the passenger is of age or not"
   ]
  },
  {
   "cell_type": "code",
   "execution_count": null,
   "id": "db57f6c6",
   "metadata": {},
   "outputs": [],
   "source": []
  },
  {
   "cell_type": "markdown",
   "id": "75e54852",
   "metadata": {},
   "source": [
    "Create a column with the passenger's birth year"
   ]
  },
  {
   "cell_type": "code",
   "execution_count": null,
   "id": "fa055d75",
   "metadata": {},
   "outputs": [],
   "source": []
  },
  {
   "cell_type": "markdown",
   "id": "c568f43a",
   "metadata": {},
   "source": [
    "Were first class tickets more expensive?"
   ]
  },
  {
   "cell_type": "code",
   "execution_count": null,
   "id": "00cd0bc2",
   "metadata": {},
   "outputs": [],
   "source": []
  },
  {
   "cell_type": "markdown",
   "id": "2505f4c8",
   "metadata": {},
   "source": [
    "Were the men younger than the women on the Titanic?"
   ]
  },
  {
   "cell_type": "code",
   "execution_count": null,
   "id": "830c29ed",
   "metadata": {},
   "outputs": [],
   "source": []
  },
  {
   "cell_type": "markdown",
   "id": "56cb3ab9",
   "metadata": {},
   "source": [
    "Did the number of relatives affect the probability of survival?"
   ]
  },
  {
   "cell_type": "code",
   "execution_count": null,
   "id": "38fd4f57",
   "metadata": {},
   "outputs": [],
   "source": []
  },
  {
   "cell_type": "markdown",
   "id": "33a4161c",
   "metadata": {},
   "source": [
    "Create a column that stores whether the passenger's ticket number contains any letters. Define a function for this and use `apply`."
   ]
  },
  {
   "cell_type": "code",
   "execution_count": null,
   "id": "a1b0f14a",
   "metadata": {},
   "outputs": [],
   "source": []
  },
  {
   "cell_type": "markdown",
   "id": "47d53129",
   "metadata": {},
   "source": [
    "Export the data to a csv named `titanic_enriched.csv`."
   ]
  },
  {
   "cell_type": "code",
   "execution_count": null,
   "id": "788d3b00",
   "metadata": {},
   "outputs": [],
   "source": []
  }
 ],
 "metadata": {
  "kernelspec": {
   "display_name": "Python 3 (ipykernel)",
   "language": "python",
   "name": "python3"
  },
  "language_info": {
   "codemirror_mode": {
    "name": "ipython",
    "version": 3
   },
   "file_extension": ".py",
   "mimetype": "text/x-python",
   "name": "python",
   "nbconvert_exporter": "python",
   "pygments_lexer": "ipython3",
   "version": "3.10.6"
  },
  "toc": {
   "base_numbering": 1,
   "nav_menu": {},
   "number_sections": true,
   "sideBar": true,
   "skip_h1_title": true,
   "title_cell": "Table of Contents",
   "title_sidebar": "Contents",
   "toc_cell": false,
   "toc_position": {
    "height": "calc(100% - 180px)",
    "left": "10px",
    "top": "150px",
    "width": "370px"
   },
   "toc_section_display": true,
   "toc_window_display": false
  },
  "varInspector": {
   "cols": {
    "lenName": 16,
    "lenType": 16,
    "lenVar": 40
   },
   "kernels_config": {
    "python": {
     "delete_cmd_postfix": "",
     "delete_cmd_prefix": "del ",
     "library": "var_list.py",
     "varRefreshCmd": "print(var_dic_list())"
    },
    "r": {
     "delete_cmd_postfix": ") ",
     "delete_cmd_prefix": "rm(",
     "library": "var_list.r",
     "varRefreshCmd": "cat(var_dic_list()) "
    }
   },
   "types_to_exclude": [
    "module",
    "function",
    "builtin_function_or_method",
    "instance",
    "_Feature"
   ],
   "window_display": false
  }
 },
 "nbformat": 4,
 "nbformat_minor": 5
}
