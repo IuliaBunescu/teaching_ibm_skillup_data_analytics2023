{
 "cells": [
  {
   "cell_type": "markdown",
   "metadata": {},
   "source": [
    "# Statistiques"
   ]
  },
  {
   "cell_type": "markdown",
   "metadata": {},
   "source": [
    "<table>\n",
    "    <tr>\n",
    "        <td><img width=200 src=\"https://upload.wikimedia.org/wikipedia/commons/thumb/5/51/IBM_logo.svg/800px-IBM_logo.svg.png\"></td>\n",
    "        <td><img width=200 src=\"https://skillup.online/_next/static/media/Logo.c31d02e9.svg\"></td>\n",
    "    </tr>\n",
    "<table>\n"
   ]
  },
  {
   "cell_type": "markdown",
   "metadata": {},
   "source": [
    "<div style=\"text-align: right\"><a>par </a><a href=\"https://www.linkedin.com/in/sheriff-data/\">Manuel López Sheriff</a></div>"
   ]
  },
  {
   "cell_type": "markdown",
   "metadata": {
    "toc": true
   },
   "source": [
    "<h1>Table of Contents<span class=\"tocSkip\"></span></h1>\n",
    "<div class=\"toc\"><ul class=\"toc-item\"><li><span><a href=\"#Combinatoire\" data-toc-modified-id=\"Combinatoire-1\"><span class=\"toc-item-num\">1&nbsp;&nbsp;</span>Combinatoire</a></span><ul class=\"toc-item\"><li><span><a href=\"#Exemples\" data-toc-modified-id=\"Exemples-1.1\"><span class=\"toc-item-num\">1.1&nbsp;&nbsp;</span>Exemples</a></span></li></ul></li><li><span><a href=\"#Probabilité\" data-toc-modified-id=\"Probabilité-2\"><span class=\"toc-item-num\">2&nbsp;&nbsp;</span>Probabilité</a></span><ul class=\"toc-item\"><li><span><a href=\"#Exemple-1-:-tirer-à-pile-ou-face\" data-toc-modified-id=\"Exemple-1-:-tirer-à-pile-ou-face-2.1\"><span class=\"toc-item-num\">2.1&nbsp;&nbsp;</span>Exemple 1 : tirer à pile ou face</a></span></li><li><span><a href=\"#Exemple-2-:-jouer-à-pile-ou-face-avec-deux-pièces-de-monnaie\" data-toc-modified-id=\"Exemple-2-:-jouer-à-pile-ou-face-avec-deux-pièces-de-monnaie-2.2\"><span class=\"toc-item-num\">2.2&nbsp;&nbsp;</span>Exemple 2 : jouer à pile ou face avec deux pièces de monnaie</a></span></li><li><span><a href=\"#Exemple-3-:-lancer-un-dé\" data-toc-modified-id=\"Exemple-3-:-lancer-un-dé-2.3\"><span class=\"toc-item-num\">2.3&nbsp;&nbsp;</span>Exemple 3 : lancer un dé</a></span></li><li><span><a href=\"#Union,-intersection-d'événements\" data-toc-modified-id=\"Union,-intersection-d'événements-2.4\"><span class=\"toc-item-num\">2.4&nbsp;&nbsp;</span>Union, intersection d'événements</a></span></li><li><span><a href=\"#Probabilité-conditionnelle\" data-toc-modified-id=\"Probabilité-conditionnelle-2.5\"><span class=\"toc-item-num\">2.5&nbsp;&nbsp;</span>Probabilité conditionnelle</a></span></li></ul></li><li><span><a href=\"#Statistiques\" data-toc-modified-id=\"Statistiques-3\"><span class=\"toc-item-num\">3&nbsp;&nbsp;</span>Statistiques</a></span><ul class=\"toc-item\"><li><span><a href=\"#Histogramme\" data-toc-modified-id=\"Histogramme-3.1\"><span class=\"toc-item-num\">3.1&nbsp;&nbsp;</span>Histogramme</a></span></li><li><span><a href=\"#Moyenne-arithmétique\" data-toc-modified-id=\"Moyenne-arithmétique-3.2\"><span class=\"toc-item-num\">3.2&nbsp;&nbsp;</span>Moyenne arithmétique</a></span></li><li><span><a href=\"#Médiane\" data-toc-modified-id=\"Médiane-3.3\"><span class=\"toc-item-num\">3.3&nbsp;&nbsp;</span>Médiane</a></span></li><li><span><a href=\"#Variance-et-écart-type\" data-toc-modified-id=\"Variance-et-écart-type-3.4\"><span class=\"toc-item-num\">3.4&nbsp;&nbsp;</span>Variance et écart-type</a></span></li><li><span><a href=\"#Centiles\" data-toc-modified-id=\"Centiles-3.5\"><span class=\"toc-item-num\">3.5&nbsp;&nbsp;</span>Centiles</a></span></li><li><span><a href=\"#Corrélation-entre-2-variables\" data-toc-modified-id=\"Corrélation-entre-2-variables-3.6\"><span class=\"toc-item-num\">3.6&nbsp;&nbsp;</span>Corrélation entre 2 variables</a></span></li><li><span><a href=\"#Boxplot\" data-toc-modified-id=\"Boxplot-3.7\"><span class=\"toc-item-num\">3.7&nbsp;&nbsp;</span>Boxplot</a></span></li></ul></li></ul></div>"
   ]
  },
  {
   "cell_type": "markdown",
   "metadata": {},
   "source": [
    "## Combinatoire"
   ]
  },
  {
   "cell_type": "markdown",
   "metadata": {},
   "source": [
    "### Exemples"
   ]
  },
  {
   "cell_type": "markdown",
   "metadata": {},
   "source": [
    "**Exercice 1** : Vous coordonnez une équipe de vente de 10 personnes. A la fin de chaque trimestre, vous récompensez les trois vendeurs les plus performants en leur attribuant respectivement une médaille d'or, une médaille d'argent et une médaille de bronze. Combien de combinaisons différentes de podiums sont possibles ?"
   ]
  },
  {
   "cell_type": "markdown",
   "metadata": {},
   "source": [
    "<img width=300 src=\"https://previews.123rf.com/images/pikepicture/pikepicture1708/pikepicture170800190/84109606-pedestal-con-oro-plata-medallas-de-bronce-vector-white-winners-podium-n%C3%BAmero-uno-1%C2%BA-2%C2%BA-3%C2%BA-concepto-d.jpg\">"
   ]
  },
  {
   "cell_type": "markdown",
   "metadata": {},
   "source": [
    "Alexandre (M)\n",
    "Béatrice (F)\n",
    "Cédric (M)\n",
    "Delphine (F)\n",
    "Étienne (M)\n",
    "Fleur (F)\n",
    "Guillaume (M)\n",
    "Hélène (F)\n",
    "Isabelle (F)\n",
    "Jacques (M)"
   ]
  },
  {
   "cell_type": "markdown",
   "metadata": {},
   "source": [
    "AB\n",
    "AC\n",
    "AD\n",
    "...\n",
    "AJ\n",
    "9\n",
    "\n",
    "BA\n",
    "BC\n",
    "BD\n",
    "...\n",
    "BJ\n",
    "9\n",
    "\n",
    "9 * 10 = 90"
   ]
  },
  {
   "cell_type": "markdown",
   "metadata": {},
   "source": [
    "FCA\n",
    "FCB\n",
    "FCD\n",
    "...\n",
    "\n",
    "8"
   ]
  },
  {
   "cell_type": "code",
   "execution_count": 1,
   "metadata": {},
   "outputs": [
    {
     "data": {
      "text/plain": [
       "720"
      ]
     },
     "execution_count": 1,
     "metadata": {},
     "output_type": "execute_result"
    }
   ],
   "source": [
    "90 * 8"
   ]
  },
  {
   "cell_type": "markdown",
   "metadata": {},
   "source": [
    "$\\frac{10!}{(10-3)!}$"
   ]
  },
  {
   "cell_type": "markdown",
   "metadata": {},
   "source": [
    "**Exercice 2** : Vous êtes le responsable marketing d'une entreprise d'électronique qui fabrique cinq produits différents :\n",
    "\n",
    "\n",
    "\n",
    "\n",
    "\n",
    "\n",
    "\n",
    "- Smartphone\n",
    "\n",
    "\n",
    "\n",
    "- Tablette\n",
    "\n",
    "\n",
    "\n",
    "- Ordinateur portable\n",
    "\n",
    "\n",
    "\n",
    "- Casque sans fil\n",
    "\n",
    "\n",
    "\n",
    "- Smartwatch\n",
    "\n",
    "\n",
    "\n",
    "\n",
    "\n",
    "\n",
    "Vous souhaitez créer une combinaison promotionnelle de deux produits différents pour stimuler les ventes. Combien de combinaisons différentes pouvez-vous créer ?"
   ]
  },
  {
   "cell_type": "markdown",
   "metadata": {},
   "source": [
    "<img width=300 src=\"https://st.depositphotos.com/1026166/1699/v/950/depositphotos_16992081-stock-illustration-tablet-and-smartphone.jpg\">"
   ]
  },
  {
   "cell_type": "markdown",
   "metadata": {},
   "source": [
    "AB\n",
    "AC\n",
    "AD\n",
    "AE\n",
    "\n",
    "BC\n",
    "BD\n",
    "BE\n",
    "\n",
    "CD\n",
    "CE\n",
    "\n",
    "DE"
   ]
  },
  {
   "cell_type": "markdown",
   "metadata": {},
   "source": [
    "10"
   ]
  },
  {
   "cell_type": "markdown",
   "metadata": {},
   "source": [
    "$\\frac{5!}{(5-2)!2!}$"
   ]
  },
  {
   "cell_type": "markdown",
   "metadata": {},
   "source": [
    "## Probabilité"
   ]
  },
  {
   "cell_type": "markdown",
   "metadata": {},
   "source": [
    "La probabilité est la branche des mathématiques qui traite des expériences dont les résultats ne sont pas connus avec certitude."
   ]
  },
  {
   "cell_type": "markdown",
   "metadata": {},
   "source": [
    "* La probabilité d'un **événement** exprime la probabilité qu'il se produise. C'est un nombre **compris entre 0 et 1**.\n",
    "\n",
    "\n",
    "\n",
    "* La probabilité d'un événement $A$ s'écrit $P(A)$.\n",
    "\n",
    "\n",
    "\n",
    "* $P(A)=0$ signifie que l'événement est impossible.\n",
    "\n",
    "\n",
    "\n",
    "* $P(A)=1$ signifie que l'événement est certain."
   ]
  },
  {
   "cell_type": "markdown",
   "metadata": {},
   "source": [
    "### Exemple 1 : tirer à pile ou face"
   ]
  },
  {
   "cell_type": "markdown",
   "metadata": {},
   "source": [
    "Le résultat sera pile (P) ou face (F)."
   ]
  },
  {
   "cell_type": "markdown",
   "metadata": {},
   "source": [
    "<img  width=200 src=\"http://1.bp.blogspot.com/-9x_f8PaKIx0/Va4yDuvZj-I/AAAAAAAA0GI/5RPzvHg41Lg/s1600/euros.jpg\">"
   ]
  },
  {
   "cell_type": "markdown",
   "metadata": {},
   "source": [
    "$P(P) = \\frac{1}{2} = 0.5$"
   ]
  },
  {
   "cell_type": "markdown",
   "metadata": {},
   "source": [
    "$P(F) = \\frac{1}{2} = 0.5$"
   ]
  },
  {
   "cell_type": "markdown",
   "metadata": {},
   "source": [
    "Nous pouvons répéter ce discours 10 fois"
   ]
  },
  {
   "cell_type": "code",
   "execution_count": 5,
   "metadata": {},
   "outputs": [],
   "source": [
    "import random"
   ]
  },
  {
   "cell_type": "code",
   "execution_count": 13,
   "metadata": {},
   "outputs": [
    {
     "data": {
      "text/plain": [
       "['P', 'P', 'P', 'F', 'F', 'P', 'P', 'P', 'P', 'P']"
      ]
     },
     "execution_count": 13,
     "metadata": {},
     "output_type": "execute_result"
    }
   ],
   "source": [
    "flips = random.choices([\"P\", \"F\"], k=10)\n",
    "flips"
   ]
  },
  {
   "cell_type": "code",
   "execution_count": 14,
   "metadata": {},
   "outputs": [
    {
     "data": {
      "text/plain": [
       "0.2"
      ]
     },
     "execution_count": 14,
     "metadata": {},
     "output_type": "execute_result"
    }
   ],
   "source": [
    "frequency_H = flips.count(\"F\") / len(flips)\n",
    "frequency_H"
   ]
  },
  {
   "cell_type": "markdown",
   "metadata": {},
   "source": [
    "Nous pouvons répéter ce discours 1000 fois"
   ]
  },
  {
   "cell_type": "code",
   "execution_count": 41,
   "metadata": {},
   "outputs": [],
   "source": [
    "flips = random.choices([\"P\", \"F\"], k=1000)"
   ]
  },
  {
   "cell_type": "code",
   "execution_count": 42,
   "metadata": {},
   "outputs": [
    {
     "data": {
      "text/plain": [
       "0.483"
      ]
     },
     "execution_count": 42,
     "metadata": {},
     "output_type": "execute_result"
    }
   ],
   "source": [
    "frequency_H = flips.count(\"F\") / len(flips)\n",
    "frequency_H"
   ]
  },
  {
   "cell_type": "markdown",
   "metadata": {},
   "source": [
    "La [loi des grands nombres](https://fr.wikipedia.org/wiki/Loi_des_grands_nombres) nous dit que:\n",
    "\n",
    "\n",
    "La **proportion relative** d'un événement tend vers la **probabilité théorique** lorsqu'on le répète plusieurs fois."
   ]
  },
  {
   "cell_type": "markdown",
   "metadata": {},
   "source": [
    "### Exemple 2 : jouer à pile ou face avec deux pièces de monnaie"
   ]
  },
  {
   "cell_type": "markdown",
   "metadata": {},
   "source": [
    "Le résultat sera l'un des suivants (CC, CX, XC, XX)"
   ]
  },
  {
   "cell_type": "markdown",
   "metadata": {},
   "source": [
    "<img  width=100 src=\"http://1.bp.blogspot.com/-9x_f8PaKIx0/Va4yDuvZj-I/AAAAAAAA0GI/5RPzvHg41Lg/s1600/euros.jpg\">\n",
    "<img  width=100 src=\"http://1.bp.blogspot.com/-9x_f8PaKIx0/Va4yDuvZj-I/AAAAAAAA0GI/5RPzvHg41Lg/s1600/euros.jpg\">"
   ]
  },
  {
   "cell_type": "markdown",
   "metadata": {},
   "source": [
    "$P(2face) = \\frac{1}{2} \\cdot \\frac{1}{2} = \\frac{1}{4}$"
   ]
  },
  {
   "cell_type": "markdown",
   "metadata": {},
   "source": [
    "$P(2pile) = \\frac{1}{2} \\cdot \\frac{1}{2} = \\frac{1}{4}$"
   ]
  },
  {
   "cell_type": "markdown",
   "metadata": {},
   "source": [
    "$P(1chaque)=\\frac{2}{4}$"
   ]
  },
  {
   "cell_type": "markdown",
   "metadata": {},
   "source": [
    "### Exemple 3 : lancer un dé"
   ]
  },
  {
   "cell_type": "markdown",
   "metadata": {},
   "source": [
    "<img src=\"data:image/jpeg;base64,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\" width=300>"
   ]
  },
  {
   "cell_type": "markdown",
   "metadata": {},
   "source": [
    "Regle de Laplace"
   ]
  },
  {
   "cell_type": "markdown",
   "metadata": {},
   "source": [
    "$P(4) = \\frac{1}{6} \\sim 0.166 = 16.6\\%$"
   ]
  },
  {
   "cell_type": "markdown",
   "metadata": {},
   "source": [
    "$P(1) = \\frac{1}{6}$"
   ]
  },
  {
   "cell_type": "markdown",
   "metadata": {},
   "source": [
    "$P(7) = 0$"
   ]
  },
  {
   "cell_type": "markdown",
   "metadata": {},
   "source": [
    "$P(>2) = \\frac{4}{6}$"
   ]
  },
  {
   "cell_type": "markdown",
   "metadata": {},
   "source": [
    "Simulons le lancement de 10 dés"
   ]
  },
  {
   "cell_type": "code",
   "execution_count": 43,
   "metadata": {},
   "outputs": [],
   "source": [
    "sample_space = [1, 2, 3, 4, 5, 6]"
   ]
  },
  {
   "cell_type": "code",
   "execution_count": 62,
   "metadata": {},
   "outputs": [
    {
     "data": {
      "text/plain": [
       "[4, 5, 1, 2, 4, 4, 5, 3, 3, 3]"
      ]
     },
     "execution_count": 62,
     "metadata": {},
     "output_type": "execute_result"
    }
   ],
   "source": [
    "rolls = random.choices(sample_space, k=10)\n",
    "rolls"
   ]
  },
  {
   "cell_type": "code",
   "execution_count": 63,
   "metadata": {},
   "outputs": [
    {
     "data": {
      "text/plain": [
       "0.3"
      ]
     },
     "execution_count": 63,
     "metadata": {},
     "output_type": "execute_result"
    }
   ],
   "source": [
    "frequency_fours = rolls.count(4) / len(rolls)\n",
    "frequency_fours"
   ]
  },
  {
   "cell_type": "markdown",
   "metadata": {},
   "source": [
    "Simulons le lancement de 1000 dés"
   ]
  },
  {
   "cell_type": "code",
   "execution_count": 72,
   "metadata": {},
   "outputs": [],
   "source": [
    "rolls = random.choices(sample_space, k=1000)"
   ]
  },
  {
   "cell_type": "code",
   "execution_count": 73,
   "metadata": {},
   "outputs": [
    {
     "data": {
      "text/plain": [
       "0.172"
      ]
     },
     "execution_count": 73,
     "metadata": {},
     "output_type": "execute_result"
    }
   ],
   "source": [
    "frequency_fours = rolls.count(4) / len(rolls)\n",
    "frequency_fours"
   ]
  },
  {
   "cell_type": "code",
   "execution_count": 74,
   "metadata": {},
   "outputs": [],
   "source": [
    "import seaborn as sns"
   ]
  },
  {
   "cell_type": "code",
   "execution_count": 75,
   "metadata": {},
   "outputs": [
    {
     "data": {
      "text/plain": [
       "<AxesSubplot: ylabel='count'>"
      ]
     },
     "execution_count": 75,
     "metadata": {},
     "output_type": "execute_result"
    },
    {
     "data": {
      "image/png": "[encoded data removed]",
      "text/plain": [
       "<Figure size 640x480 with 1 Axes>"
      ]
     },
     "metadata": {},
     "output_type": "display_data"
    }
   ],
   "source": [
    "sns.countplot(x=rolls, palette=\"Reds\")"
   ]
  },
  {
   "cell_type": "markdown",
   "metadata": {},
   "source": [
    "### Union, intersection d'événements"
   ]
  },
  {
   "cell_type": "markdown",
   "metadata": {},
   "source": [
    "L'espace d'échantillonnage est $\\Omega$ : toutes les possibilités d'un événement."
   ]
  },
  {
   "cell_type": "markdown",
   "metadata": {},
   "source": [
    "$A$ et $B$ sont des événements"
   ]
  },
  {
   "cell_type": "markdown",
   "metadata": {},
   "source": [
    "$A \\cap B$ (A intersection B) est un autre événement, qui se produit si **les deux** $A$ et $B$ se produisent : AND\n",
    "\n",
    "$A \\cup B$ (A union B) est un autre événement qui se produit si **l'un ou l'autre** de $A$ ou $B$ se produit : OR"
   ]
  },
  {
   "cell_type": "markdown",
   "metadata": {},
   "source": [
    "Exemple du dé:"
   ]
  },
  {
   "cell_type": "markdown",
   "metadata": {},
   "source": [
    "$\\Omega = \\{1, 2, 3, 4, 5, 6\\}$  \n",
    "$A=\\{1, 2, 3\\}$  \n",
    "$B=\\{2, 4, 6\\}$  "
   ]
  },
  {
   "cell_type": "markdown",
   "metadata": {},
   "source": [
    "$P(A)=3/6$"
   ]
  },
  {
   "cell_type": "markdown",
   "metadata": {},
   "source": [
    "$P(B) =3/6$"
   ]
  },
  {
   "cell_type": "markdown",
   "metadata": {},
   "source": [
    "Dans ce cas"
   ]
  },
  {
   "cell_type": "markdown",
   "metadata": {},
   "source": [
    "$A \\cap B =\\{2\\}$"
   ]
  },
  {
   "cell_type": "markdown",
   "metadata": {},
   "source": [
    "$A \\cup B = \\{1, 2, 3, 4, 6\\}$"
   ]
  },
  {
   "cell_type": "markdown",
   "metadata": {},
   "source": [
    "$P(A \\cup B)=5/6$"
   ]
  },
  {
   "cell_type": "markdown",
   "metadata": {},
   "source": [
    "Diagrammes de Venn :"
   ]
  },
  {
   "cell_type": "markdown",
   "metadata": {},
   "source": [
    "<img src=\"https://www.researchgate.net/publication/332453167/figure/fig1/AS:748486492450816@1555464494152/A-Venn-diagram-of-unions-and-intersections-for-two-sets-A-and-B-and-their-complements.png\" width=500>"
   ]
  },
  {
   "cell_type": "markdown",
   "metadata": {},
   "source": [
    "La loi suivante est vraie :"
   ]
  },
  {
   "cell_type": "markdown",
   "metadata": {},
   "source": [
    "$$P(A \\cup B)=P(A)+P(B)-P(A \\cap B)$$"
   ]
  },
  {
   "cell_type": "markdown",
   "metadata": {},
   "source": [
    "### Probabilité conditionnelle"
   ]
  },
  {
   "cell_type": "markdown",
   "metadata": {},
   "source": [
    "$P(A|B)$ est la probabilité que $A$ se produise si $B$ se produit."
   ]
  },
  {
   "cell_type": "markdown",
   "metadata": {},
   "source": [
    "<img width=500 src=\"data:image/jpeg;base64,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\">"
   ]
  },
  {
   "cell_type": "markdown",
   "metadata": {},
   "source": [
    "Donnez des réponses approximatives :\n",
    "\n",
    "\n",
    "\n",
    "\n",
    "\n",
    "\n",
    "\n",
    " * Quelle est la probabilité qu'un chat soit une femelle ?\n",
    "\n",
    "\n",
    "\n",
    "\n",
    "\n",
    "\n",
    "\n",
    " * Quelle est la probabilité qu'un chat soit de 3 couleurs ?\n",
    "\n",
    "\n",
    "\n",
    "\n",
    "\n",
    "\n",
    "\n",
    " * Quelle est la probabilité qu'un chat soit femelle et de 3 couleurs ?\n",
    "\n",
    "\n",
    "\n",
    "\n",
    "\n",
    "\n",
    "\n",
    " * Etant donné qu'un chat est une femelle, quelle est la probabilité qu'il soit tricolore ?\n",
    "\n",
    "\n",
    "\n",
    " \n",
    "\n",
    "\n",
    "\n",
    " * Etant donné qu'un chat est de 3 couleurs, quelle est la probabilité qu'il soit de sexe féminin ?"
   ]
  },
  {
   "cell_type": "markdown",
   "metadata": {},
   "source": [
    "$P(\\text{female}) \\sim 0.5$"
   ]
  },
  {
   "cell_type": "markdown",
   "metadata": {},
   "source": [
    "$P(\\text{3coloured}) \\sim 0.1$"
   ]
  },
  {
   "cell_type": "markdown",
   "metadata": {},
   "source": [
    "$P(\\text{3coloured} \\cap \\text{female}) $ un peu moins de $0.1$"
   ]
  },
  {
   "cell_type": "markdown",
   "metadata": {},
   "source": [
    "$P(\\text{3coloured} | \\text{female}) \\sim 0.2$"
   ]
  },
  {
   "cell_type": "markdown",
   "metadata": {},
   "source": [
    "$P(\\text{female} | \\text{3coloured}) \\sim 0.95$"
   ]
  },
  {
   "cell_type": "markdown",
   "metadata": {},
   "source": [
    "$P(A|B)$ n'est pas la même chose que $P(B|A)$ !"
   ]
  },
  {
   "cell_type": "markdown",
   "metadata": {},
   "source": [
    "## Statistiques"
   ]
  },
  {
   "cell_type": "markdown",
   "metadata": {},
   "source": [
    "<img width=400 src=\"https://data-mining.philippe-fournier-viger.com/wp-content/uploads/2019/12/test.jpg\">"
   ]
  },
  {
   "cell_type": "markdown",
   "metadata": {},
   "source": [
    "Le mot statistique vient du latin *statisticum collegium* (conférence sur les affaires de l'État), qui a donné naissance à l'italien *statista* (homme d'État ou politicien) et à l'allemand *Statistik* (à l'origine, l'analyse des données sur l'État).\n",
    "\n",
    "\n",
    "\n",
    "\n",
    "\n",
    "\n",
    "\n",
    "Au début du 19e siècle, il a acquis le sens de collecte de données et de classification en général. La collecte de données sur les États et les localités se poursuit, en grande partie par l'intermédiaire des services statistiques nationaux et internationaux."
   ]
  },
  {
   "cell_type": "markdown",
   "metadata": {},
   "source": [
    "### Histogramme"
   ]
  },
  {
   "cell_type": "markdown",
   "metadata": {},
   "source": [
    "Prenons 10000 personnes au hasard, leur taille et leur salaire."
   ]
  },
  {
   "cell_type": "code",
   "execution_count": 76,
   "metadata": {},
   "outputs": [],
   "source": [
    "import numpy as np"
   ]
  },
  {
   "cell_type": "code",
   "execution_count": 77,
   "metadata": {},
   "outputs": [],
   "source": [
    "heights = np.random.normal(170, 10, 10000)"
   ]
  },
  {
   "cell_type": "code",
   "execution_count": 89,
   "metadata": {},
   "outputs": [],
   "source": [
    "salaries = np.random.lognormal(7, 1, 10000)"
   ]
  },
  {
   "cell_type": "code",
   "execution_count": 79,
   "metadata": {},
   "outputs": [
    {
     "data": {
      "text/plain": [
       "<AxesSubplot: ylabel='Count'>"
      ]
     },
     "execution_count": 79,
     "metadata": {},
     "output_type": "execute_result"
    },
    {
     "data": {
      "image/png": "[encoded data removed]",
      "text/plain": [
       "<Figure size 640x480 with 1 Axes>"
      ]
     },
     "metadata": {},
     "output_type": "display_data"
    }
   ],
   "source": [
    "sns.histplot(x=heights)"
   ]
  },
  {
   "cell_type": "code",
   "execution_count": 90,
   "metadata": {},
   "outputs": [
    {
     "data": {
      "text/plain": [
       "<AxesSubplot: ylabel='Count'>"
      ]
     },
     "execution_count": 90,
     "metadata": {},
     "output_type": "execute_result"
    },
    {
     "data": {
      "image/png": "[encoded data removed]",
      "text/plain": [
       "<Figure size 640x480 with 1 Axes>"
      ]
     },
     "metadata": {},
     "output_type": "display_data"
    }
   ],
   "source": [
    "sns.histplot(x=salaries, color=\"green\")"
   ]
  },
  {
   "cell_type": "markdown",
   "metadata": {},
   "source": [
    "Tracer l'histogramme d'une distribution est toujours une bonne idée. Il fournit beaucoup d'informations en un coup d'œil.\n",
    "\n",
    "\n",
    "\n",
    "\n",
    "\n",
    "\n",
    "\n",
    "Cependant, nous souhaitons parfois résumer nos distributions à l'aide d'un ensemble de chiffres représentatifs, également connus sous le nom de statistiques."
   ]
  },
  {
   "cell_type": "markdown",
   "metadata": {},
   "source": [
    "### Moyenne arithmétique"
   ]
  },
  {
   "cell_type": "markdown",
   "metadata": {},
   "source": [
    "Pour un ensemble de données, la moyenne arithmétique, également appelée valeur attendue ou moyenne, est la somme des valeurs divisée par le nombre de valeurs."
   ]
  },
  {
   "cell_type": "markdown",
   "metadata": {},
   "source": [
    "$$\\bar{x} = \\frac{\\sum x_i}{N} = \\frac{x_1 + x_2 + \\dots + x_N}{N}$$"
   ]
  },
  {
   "cell_type": "code",
   "execution_count": 91,
   "metadata": {},
   "outputs": [
    {
     "data": {
      "text/plain": [
       "170.2"
      ]
     },
     "execution_count": 91,
     "metadata": {},
     "output_type": "execute_result"
    }
   ],
   "source": [
    "heights.mean().round(1)"
   ]
  },
  {
   "cell_type": "code",
   "execution_count": 92,
   "metadata": {},
   "outputs": [
    {
     "data": {
      "text/plain": [
       "1783.4"
      ]
     },
     "execution_count": 92,
     "metadata": {},
     "output_type": "execute_result"
    }
   ],
   "source": [
    "salaries.mean().round(1)"
   ]
  },
  {
   "cell_type": "markdown",
   "metadata": {},
   "source": [
    "La moyenne est la mesure de centralité la plus couramment utilisée pour résumer une distribution.\n",
    "\n",
    "\n",
    "\n",
    "\n",
    "\n",
    "\n",
    "\n",
    "Elle présente toutefois un inconvénient majeur : elle est très sensible aux observations extrêmes (également appelées valeurs aberrantes)."
   ]
  },
  {
   "cell_type": "code",
   "execution_count": 93,
   "metadata": {},
   "outputs": [],
   "source": [
    "import matplotlib.pyplot as plt"
   ]
  },
  {
   "cell_type": "code",
   "execution_count": 95,
   "metadata": {},
   "outputs": [
    {
     "data": {
      "text/plain": [
       "<matplotlib.legend.Legend at 0x7f3c30a06dd0>"
      ]
     },
     "execution_count": 95,
     "metadata": {},
     "output_type": "execute_result"
    },
    {
     "data": {
      "image/png": "[encoded data removed]",
      "text/plain": [
       "<Figure size 640x480 with 1 Axes>"
      ]
     },
     "metadata": {},
     "output_type": "display_data"
    }
   ],
   "source": [
    "fig, ax = plt.subplots()\n",
    "g = sns.histplot(x=heights)\n",
    "g.axvline(heights.mean(), c=\"red\", label=\"moyenne\")\n",
    "plt.legend()"
   ]
  },
  {
   "cell_type": "code",
   "execution_count": 97,
   "metadata": {},
   "outputs": [
    {
     "data": {
      "text/plain": [
       "<matplotlib.legend.Legend at 0x7f3c302d0c10>"
      ]
     },
     "execution_count": 97,
     "metadata": {},
     "output_type": "execute_result"
    },
    {
     "data": {
      "image/png": "[encoded data removed]",
      "text/plain": [
       "<Figure size 640x480 with 1 Axes>"
      ]
     },
     "metadata": {},
     "output_type": "display_data"
    }
   ],
   "source": [
    "fig, ax = plt.subplots()\n",
    "g = sns.histplot(x=salaries, color=\"green\")\n",
    "g.axvline(salaries.mean(), c=\"red\", label=\"moyenne\")\n",
    "g.set_xlim(0, 20000)\n",
    "plt.legend()"
   ]
  },
  {
   "cell_type": "markdown",
   "metadata": {},
   "source": [
    "### Médiane"
   ]
  },
  {
   "cell_type": "markdown",
   "metadata": {},
   "source": [
    "La médiane est une valeur qui **sépare la moitié supérieure** de la moitié inférieure d'un échantillon de données.\n",
    "\n",
    "\n",
    "\n",
    "\n",
    "\n",
    "\n",
    "\n",
    "L'avantage de la médiane est qu'elle n'est pas biaisée par une petite proportion de valeurs extrêmement grandes ou petites, et qu'elle peut donc donner une meilleure idée d'une valeur \"typique\"."
   ]
  },
  {
   "cell_type": "code",
   "execution_count": 98,
   "metadata": {},
   "outputs": [
    {
     "data": {
      "text/plain": [
       "170.2"
      ]
     },
     "execution_count": 98,
     "metadata": {},
     "output_type": "execute_result"
    }
   ],
   "source": [
    "heights.mean().round(1)"
   ]
  },
  {
   "cell_type": "code",
   "execution_count": 99,
   "metadata": {},
   "outputs": [
    {
     "data": {
      "text/plain": [
       "170.3"
      ]
     },
     "execution_count": 99,
     "metadata": {},
     "output_type": "execute_result"
    }
   ],
   "source": [
    "np.median(heights).round(1)"
   ]
  },
  {
   "cell_type": "code",
   "execution_count": 100,
   "metadata": {},
   "outputs": [
    {
     "data": {
      "text/plain": [
       "1783.4"
      ]
     },
     "execution_count": 100,
     "metadata": {},
     "output_type": "execute_result"
    }
   ],
   "source": [
    "salaries.mean().round(1)"
   ]
  },
  {
   "cell_type": "code",
   "execution_count": 101,
   "metadata": {},
   "outputs": [
    {
     "data": {
      "text/plain": [
       "1089.8"
      ]
     },
     "execution_count": 101,
     "metadata": {},
     "output_type": "execute_result"
    }
   ],
   "source": [
    "np.median(salaries).round(1)"
   ]
  },
  {
   "cell_type": "code",
   "execution_count": 102,
   "metadata": {},
   "outputs": [
    {
     "data": {
      "text/plain": [
       "<matplotlib.legend.Legend at 0x7f3c300a4a90>"
      ]
     },
     "execution_count": 102,
     "metadata": {},
     "output_type": "execute_result"
    },
    {
     "data": {
      "image/png": "[encoded data removed]",
      "text/plain": [
       "<Figure size 640x480 with 1 Axes>"
      ]
     },
     "metadata": {},
     "output_type": "display_data"
    }
   ],
   "source": [
    "fig, ax = plt.subplots()\n",
    "g = sns.histplot(x=heights)\n",
    "g.axvline(heights.mean(), c=\"red\", label=\"moyenne\")\n",
    "g.axvline(np.median(heights), c=\"green\", label=\"mediane\")\n",
    "plt.legend()"
   ]
  },
  {
   "cell_type": "code",
   "execution_count": 103,
   "metadata": {},
   "outputs": [
    {
     "data": {
      "text/plain": [
       "<matplotlib.legend.Legend at 0x7f3c2ff59840>"
      ]
     },
     "execution_count": 103,
     "metadata": {},
     "output_type": "execute_result"
    },
    {
     "data": {
      "image/png": "[encoded data removed]",
      "text/plain": [
       "<Figure size 640x480 with 1 Axes>"
      ]
     },
     "metadata": {},
     "output_type": "display_data"
    }
   ],
   "source": [
    "fig, ax = plt.subplots()\n",
    "g = sns.histplot(x=salaries)\n",
    "g.axvline(salaries.mean(), c=\"red\", label=\"moyenne\")\n",
    "g.axvline(np.median(salaries), c=\"green\", label=\"mediane\")\n",
    "g.set_xlim(0, 10000)\n",
    "plt.legend()"
   ]
  },
  {
   "cell_type": "markdown",
   "metadata": {},
   "source": [
    "### Variance et écart-type"
   ]
  },
  {
   "cell_type": "markdown",
   "metadata": {},
   "source": [
    "Outre le fait de savoir où une distribution est *centrée*, il est également important de connaître la *variabilité* des données, c'est-à-dire leur *dispersion*. Deux statistiques sont utiles à cet égard : la variance et l'écart-type (qui représentent essentiellement la même chose)."
   ]
  },
  {
   "cell_type": "markdown",
   "metadata": {},
   "source": [
    "$$Var = \\frac{\\sum_{i=1}^{N} (x_i - \\bar{x}) ^ 2}{N}$$ "
   ]
  },
  {
   "cell_type": "markdown",
   "metadata": {},
   "source": [
    "$$Std = \\sigma = \\sqrt{Var}$$"
   ]
  },
  {
   "cell_type": "markdown",
   "metadata": {},
   "source": [
    "Examinons deux populations ayant la même taille moyenne et des écarts types différents"
   ]
  },
  {
   "cell_type": "code",
   "execution_count": 104,
   "metadata": {},
   "outputs": [
    {
     "data": {
      "text/plain": [
       "<AxesSubplot: ylabel='Density'>"
      ]
     },
     "execution_count": 104,
     "metadata": {},
     "output_type": "execute_result"
    },
    {
     "data": {
      "image/png": "[encoded data removed]",
      "text/plain": [
       "<Figure size 640x480 with 1 Axes>"
      ]
     },
     "metadata": {},
     "output_type": "display_data"
    }
   ],
   "source": [
    "# number of points\n",
    "N = 10000\n",
    "\n",
    "sns.kdeplot(x=np.random.normal(170, 10, N))\n",
    "sns.kdeplot(x=np.random.normal(170, 20, N))"
   ]
  },
  {
   "cell_type": "markdown",
   "metadata": {},
   "source": [
    "### Centiles"
   ]
  },
  {
   "cell_type": "markdown",
   "metadata": {},
   "source": [
    "Les centiles (ou quantiles) sont une autre statistique utile pour comprendre les distributions.\n",
    "\n",
    "\n",
    "Un centile indique la valeur en dessous de laquelle se situe un certain pourcentage d'observations.\n",
    "\n",
    "\n",
    "Par exemple, le 20e centile est la valeur (ou le score) en dessous de laquelle 20 % des observations peuvent se situer."
   ]
  },
  {
   "cell_type": "markdown",
   "metadata": {},
   "source": [
    "**Note** : Le 50e centile est la médiane."
   ]
  },
  {
   "cell_type": "code",
   "execution_count": 105,
   "metadata": {},
   "outputs": [
    {
     "data": {
      "text/plain": [
       "170.3"
      ]
     },
     "execution_count": 105,
     "metadata": {},
     "output_type": "execute_result"
    }
   ],
   "source": [
    "np.quantile(heights, 0.5).round(1)"
   ]
  },
  {
   "cell_type": "code",
   "execution_count": 106,
   "metadata": {},
   "outputs": [
    {
     "data": {
      "text/plain": [
       "157.4"
      ]
     },
     "execution_count": 106,
     "metadata": {},
     "output_type": "execute_result"
    }
   ],
   "source": [
    "np.quantile(heights, 0.1).round(1)"
   ]
  },
  {
   "cell_type": "code",
   "execution_count": 107,
   "metadata": {},
   "outputs": [
    {
     "data": {
      "text/plain": [
       "<matplotlib.legend.Legend at 0x7f3c2fe200d0>"
      ]
     },
     "execution_count": 107,
     "metadata": {},
     "output_type": "execute_result"
    },
    {
     "data": {
      "image/png": "[encoded data removed]",
      "text/plain": [
       "<Figure size 640x480 with 1 Axes>"
      ]
     },
     "metadata": {},
     "output_type": "display_data"
    }
   ],
   "source": [
    "fig, ax = plt.subplots()\n",
    "g = sns.histplot(x=heights)\n",
    "g.axvline(np.quantile(heights, 0.1), c=\"black\", label=\"p10%\")\n",
    "g.axvline(np.median(heights), c=\"green\", label=\"mediane\")\n",
    "plt.legend()"
   ]
  },
  {
   "cell_type": "code",
   "execution_count": 108,
   "metadata": {},
   "outputs": [
    {
     "data": {
      "text/plain": [
       "1089.8"
      ]
     },
     "execution_count": 108,
     "metadata": {},
     "output_type": "execute_result"
    }
   ],
   "source": [
    "np.quantile(salaries, 0.5).round(1)"
   ]
  },
  {
   "cell_type": "code",
   "execution_count": 109,
   "metadata": {},
   "outputs": [
    {
     "data": {
      "text/plain": [
       "3851.7"
      ]
     },
     "execution_count": 109,
     "metadata": {},
     "output_type": "execute_result"
    }
   ],
   "source": [
    "np.quantile(salaries, 0.9).round(1)"
   ]
  },
  {
   "cell_type": "code",
   "execution_count": 110,
   "metadata": {},
   "outputs": [
    {
     "data": {
      "text/plain": [
       "<matplotlib.legend.Legend at 0x7f3c2dbac280>"
      ]
     },
     "execution_count": 110,
     "metadata": {},
     "output_type": "execute_result"
    },
    {
     "data": {
      "image/png": "[encoded data removed]",
      "text/plain": [
       "<Figure size 640x480 with 1 Axes>"
      ]
     },
     "metadata": {},
     "output_type": "display_data"
    }
   ],
   "source": [
    "fig, ax = plt.subplots()\n",
    "g = sns.histplot(x=salaries)\n",
    "g.axvline(np.quantile(salaries, 0.9), c=\"black\", label=\"p90%\")\n",
    "g.axvline(np.median(salaries), c=\"green\", label=\"mediane\")\n",
    "g.set_xlim(0, 10000)\n",
    "plt.legend()"
   ]
  },
  {
   "cell_type": "code",
   "execution_count": 111,
   "metadata": {},
   "outputs": [],
   "source": [
    "import pandas as pd"
   ]
  },
  {
   "cell_type": "code",
   "execution_count": 113,
   "metadata": {},
   "outputs": [
    {
     "data": {
      "text/plain": [
       "0.0       25.1\n",
       "0.1      304.0\n",
       "0.2      456.6\n",
       "0.3      636.1\n",
       "0.4      843.8\n",
       "0.5     1089.8\n",
       "0.6     1402.6\n",
       "0.7     1845.7\n",
       "0.8     2521.2\n",
       "0.9     3851.7\n",
       "1.0    50881.9\n",
       "dtype: float64"
      ]
     },
     "execution_count": 113,
     "metadata": {},
     "output_type": "execute_result"
    }
   ],
   "source": [
    "pd.Series(salaries).quantile(np.linspace(0, 1, 11)).round(1)"
   ]
  },
  {
   "cell_type": "code",
   "execution_count": 112,
   "metadata": {},
   "outputs": [
    {
     "data": {
      "text/plain": [
       "0.00       25.1\n",
       "0.25      542.2\n",
       "0.50     1089.8\n",
       "0.75     2142.6\n",
       "1.00    50881.9\n",
       "dtype: float64"
      ]
     },
     "execution_count": 112,
     "metadata": {},
     "output_type": "execute_result"
    }
   ],
   "source": [
    "pd.Series(salaries).quantile(np.linspace(0, 1, 5)).round(1)"
   ]
  },
  {
   "cell_type": "markdown",
   "metadata": {},
   "source": [
    "### Corrélation entre 2 variables"
   ]
  },
  {
   "cell_type": "markdown",
   "metadata": {},
   "source": [
    "Le coefficient de corrélation de Pearson est un indicateur qui mesure la corrélation linéaire entre deux variables X et Y.\n",
    "\n",
    "\n",
    "\n",
    "\n",
    "\n",
    "\n",
    "\n",
    "Sa valeur est comprise entre +1 et -1. Une valeur de +1 correspond à une corrélation linéaire positive totale, 0 à une absence de corrélation linéaire et -1 à une corrélation linéaire négative totale."
   ]
  },
  {
   "cell_type": "code",
   "execution_count": 114,
   "metadata": {},
   "outputs": [],
   "source": [
    "tips = sns.load_dataset(\"tips\")"
   ]
  },
  {
   "cell_type": "code",
   "execution_count": 115,
   "metadata": {},
   "outputs": [
    {
     "data": {
      "text/plain": [
       "(244, 7)"
      ]
     },
     "execution_count": 115,
     "metadata": {},
     "output_type": "execute_result"
    }
   ],
   "source": [
    "tips.shape"
   ]
  },
  {
   "cell_type": "code",
   "execution_count": 116,
   "metadata": {},
   "outputs": [
    {
     "data": {
      "text/html": [
       "<div>\n",
       "<style scoped>\n",
       "    .dataframe tbody tr th:only-of-type {\n",
       "        vertical-align: middle;\n",
       "    }\n",
       "\n",
       "    .dataframe tbody tr th {\n",
       "        vertical-align: top;\n",
       "    }\n",
       "\n",
       "    .dataframe thead th {\n",
       "        text-align: right;\n",
       "    }\n",
       "</style>\n",
       "<table border=\"1\" class=\"dataframe\">\n",
       "  <thead>\n",
       "    <tr style=\"text-align: right;\">\n",
       "      <th></th>\n",
       "      <th>total_bill</th>\n",
       "      <th>tip</th>\n",
       "      <th>sex</th>\n",
       "      <th>smoker</th>\n",
       "      <th>day</th>\n",
       "      <th>time</th>\n",
       "      <th>size</th>\n",
       "    </tr>\n",
       "  </thead>\n",
       "  <tbody>\n",
       "    <tr>\n",
       "      <th>0</th>\n",
       "      <td>16.99</td>\n",
       "      <td>1.01</td>\n",
       "      <td>Female</td>\n",
       "      <td>No</td>\n",
       "      <td>Sun</td>\n",
       "      <td>Dinner</td>\n",
       "      <td>2</td>\n",
       "    </tr>\n",
       "    <tr>\n",
       "      <th>1</th>\n",
       "      <td>10.34</td>\n",
       "      <td>1.66</td>\n",
       "      <td>Male</td>\n",
       "      <td>No</td>\n",
       "      <td>Sun</td>\n",
       "      <td>Dinner</td>\n",
       "      <td>3</td>\n",
       "    </tr>\n",
       "    <tr>\n",
       "      <th>2</th>\n",
       "      <td>21.01</td>\n",
       "      <td>3.50</td>\n",
       "      <td>Male</td>\n",
       "      <td>No</td>\n",
       "      <td>Sun</td>\n",
       "      <td>Dinner</td>\n",
       "      <td>3</td>\n",
       "    </tr>\n",
       "    <tr>\n",
       "      <th>3</th>\n",
       "      <td>23.68</td>\n",
       "      <td>3.31</td>\n",
       "      <td>Male</td>\n",
       "      <td>No</td>\n",
       "      <td>Sun</td>\n",
       "      <td>Dinner</td>\n",
       "      <td>2</td>\n",
       "    </tr>\n",
       "    <tr>\n",
       "      <th>4</th>\n",
       "      <td>24.59</td>\n",
       "      <td>3.61</td>\n",
       "      <td>Female</td>\n",
       "      <td>No</td>\n",
       "      <td>Sun</td>\n",
       "      <td>Dinner</td>\n",
       "      <td>4</td>\n",
       "    </tr>\n",
       "  </tbody>\n",
       "</table>\n",
       "</div>"
      ],
      "text/plain": [
       "   total_bill   tip     sex smoker  day    time  size\n",
       "0       16.99  1.01  Female     No  Sun  Dinner     2\n",
       "1       10.34  1.66    Male     No  Sun  Dinner     3\n",
       "2       21.01  3.50    Male     No  Sun  Dinner     3\n",
       "3       23.68  3.31    Male     No  Sun  Dinner     2\n",
       "4       24.59  3.61  Female     No  Sun  Dinner     4"
      ]
     },
     "execution_count": 116,
     "metadata": {},
     "output_type": "execute_result"
    }
   ],
   "source": [
    "tips.head()"
   ]
  },
  {
   "cell_type": "code",
   "execution_count": 117,
   "metadata": {},
   "outputs": [
    {
     "name": "stderr",
     "output_type": "stream",
     "text": [
      "/tmp/ipykernel_33847/3640967562.py:1: FutureWarning: The default value of numeric_only in DataFrame.corr is deprecated. In a future version, it will default to False. Select only valid columns or specify the value of numeric_only to silence this warning.\n",
      "  tips.corr().round(2)\n"
     ]
    },
    {
     "data": {
      "text/html": [
       "<div>\n",
       "<style scoped>\n",
       "    .dataframe tbody tr th:only-of-type {\n",
       "        vertical-align: middle;\n",
       "    }\n",
       "\n",
       "    .dataframe tbody tr th {\n",
       "        vertical-align: top;\n",
       "    }\n",
       "\n",
       "    .dataframe thead th {\n",
       "        text-align: right;\n",
       "    }\n",
       "</style>\n",
       "<table border=\"1\" class=\"dataframe\">\n",
       "  <thead>\n",
       "    <tr style=\"text-align: right;\">\n",
       "      <th></th>\n",
       "      <th>total_bill</th>\n",
       "      <th>tip</th>\n",
       "      <th>size</th>\n",
       "    </tr>\n",
       "  </thead>\n",
       "  <tbody>\n",
       "    <tr>\n",
       "      <th>total_bill</th>\n",
       "      <td>1.00</td>\n",
       "      <td>0.68</td>\n",
       "      <td>0.60</td>\n",
       "    </tr>\n",
       "    <tr>\n",
       "      <th>tip</th>\n",
       "      <td>0.68</td>\n",
       "      <td>1.00</td>\n",
       "      <td>0.49</td>\n",
       "    </tr>\n",
       "    <tr>\n",
       "      <th>size</th>\n",
       "      <td>0.60</td>\n",
       "      <td>0.49</td>\n",
       "      <td>1.00</td>\n",
       "    </tr>\n",
       "  </tbody>\n",
       "</table>\n",
       "</div>"
      ],
      "text/plain": [
       "            total_bill   tip  size\n",
       "total_bill        1.00  0.68  0.60\n",
       "tip               0.68  1.00  0.49\n",
       "size              0.60  0.49  1.00"
      ]
     },
     "execution_count": 117,
     "metadata": {},
     "output_type": "execute_result"
    }
   ],
   "source": [
    "tips.corr().round(2)"
   ]
  },
  {
   "cell_type": "code",
   "execution_count": 118,
   "metadata": {},
   "outputs": [
    {
     "data": {
      "text/plain": [
       "<AxesSubplot: xlabel='total_bill', ylabel='tip'>"
      ]
     },
     "execution_count": 118,
     "metadata": {},
     "output_type": "execute_result"
    },
    {
     "data": {
      "image/png": "[encoded data removed]",
      "text/plain": [
       "<Figure size 640x480 with 1 Axes>"
      ]
     },
     "metadata": {},
     "output_type": "display_data"
    }
   ],
   "source": [
    "sns.scatterplot(x=tips.total_bill, y=tips.tip)"
   ]
  },
  {
   "cell_type": "markdown",
   "metadata": {},
   "source": [
    "La corrélation de 0,68 signifie que plus l'addition est chère, plus le pourboire est élevé (en général)."
   ]
  },
  {
   "cell_type": "markdown",
   "metadata": {},
   "source": [
    "<img width=600 src=\"https://upload.wikimedia.org/wikipedia/commons/thumb/d/d4/Correlation_examples2.svg/1200px-Correlation_examples2.svg.png\">"
   ]
  },
  {
   "cell_type": "markdown",
   "metadata": {},
   "source": [
    "### Boxplot"
   ]
  },
  {
   "cell_type": "markdown",
   "metadata": {},
   "source": [
    "Utile pour une variable numérique continue"
   ]
  },
  {
   "cell_type": "markdown",
   "metadata": {},
   "source": [
    "Il s'agit d'une méthode standardisée de représentation graphique d'une série de données numériques par le biais de ses **quartiles**.\n",
    "\n",
    "\n",
    "\n",
    "\n",
    "\n",
    "\n",
    "\n",
    "La **médiane et les quartiles** des données sont affichés en un coup d'œil, et leurs **outrelles** peuvent également être représentées."
   ]
  },
  {
   "cell_type": "code",
   "execution_count": null,
   "metadata": {},
   "outputs": [],
   "source": [
    "import seaborn as sns"
   ]
  },
  {
   "cell_type": "code",
   "execution_count": null,
   "metadata": {},
   "outputs": [],
   "source": [
    "import pandas as pd"
   ]
  },
  {
   "cell_type": "code",
   "execution_count": null,
   "metadata": {},
   "outputs": [],
   "source": [
    "df = pd.read_csv(\"../datasets/pokemon.csv\", index_col=0)"
   ]
  },
  {
   "cell_type": "code",
   "execution_count": null,
   "metadata": {},
   "outputs": [],
   "source": [
    "df.head()"
   ]
  },
  {
   "cell_type": "code",
   "execution_count": null,
   "metadata": {},
   "outputs": [],
   "source": [
    "sns.histplot(x=df.Speed)"
   ]
  },
  {
   "cell_type": "code",
   "execution_count": null,
   "metadata": {},
   "outputs": [],
   "source": [
    "sns.boxplot(x=df.Speed)"
   ]
  },
  {
   "cell_type": "markdown",
   "metadata": {},
   "source": [
    "Que marquent les lignes ?\n",
    "\n",
    "\n",
    "\n",
    " - La centrale : la médiane\n",
    "\n",
    "\n",
    "\n",
    " - Bordure gauche : $Q_1$ : 25% percentile\n",
    "\n",
    "\n",
    "\n",
    " - Bordure droite : $Q_3$ : 75% percentile\n",
    "\n",
    "\n",
    "\n",
    " - Bord gauche : $Q_1 - 1.5IQR$ : percentile $Q_1 - 1.5IQR$.\n",
    "\n",
    "\n",
    "\n",
    " - Droite : $Q_3 + 1.5IQR$.\n",
    "\n",
    "\n",
    "\n",
    " \n",
    "\n",
    "\n",
    "\n",
    "où $IQR=Q_3-Q_1$"
   ]
  },
  {
   "cell_type": "code",
   "execution_count": null,
   "metadata": {},
   "outputs": [],
   "source": [
    "df.Speed.quantile([0, 0.25, 0.5, 0.75, 1])"
   ]
  },
  {
   "cell_type": "markdown",
   "metadata": {},
   "source": [
    "Nous pouvons également segmenter par une variable catégorielle"
   ]
  },
  {
   "cell_type": "code",
   "execution_count": null,
   "metadata": {},
   "outputs": [],
   "source": [
    "sns.boxplot(x=df.Speed, y=df.Generation.astype(str), palette=\"Blues\")"
   ]
  },
  {
   "cell_type": "code",
   "execution_count": null,
   "metadata": {},
   "outputs": [],
   "source": [
    "df.groupby(\"Generation\").Speed.quantile([0, 0.25, 0.5, 0.75, 1])"
   ]
  },
  {
   "cell_type": "code",
   "execution_count": null,
   "metadata": {},
   "outputs": [],
   "source": [
    "sns.boxplot(x=df.Speed, y=df.Legendary.astype(str))"
   ]
  },
  {
   "cell_type": "code",
   "execution_count": null,
   "metadata": {},
   "outputs": [],
   "source": [
    "df.groupby(\"Legendary\").Speed.quantile([0, 0.25, 0.5, 0.75, 1])"
   ]
  }
 ],
 "metadata": {
  "kernelspec": {
   "display_name": "Python 3 (ipykernel)",
   "language": "python",
   "name": "python3"
  },
  "language_info": {
   "codemirror_mode": {
    "name": "ipython",
    "version": 3
   },
   "file_extension": ".py",
   "mimetype": "text/x-python",
   "name": "python",
   "nbconvert_exporter": "python",
   "pygments_lexer": "ipython3",
   "version": "3.10.6"
  },
  "toc": {
   "base_numbering": 1,
   "nav_menu": {},
   "number_sections": true,
   "sideBar": true,
   "skip_h1_title": true,
   "title_cell": "Table of Contents",
   "title_sidebar": "Contents",
   "toc_cell": true,
   "toc_position": {},
   "toc_section_display": true,
   "toc_window_display": false
  },
  "varInspector": {
   "cols": {
    "lenName": 16,
    "lenType": 16,
    "lenVar": 40
   },
   "kernels_config": {
    "python": {
     "delete_cmd_postfix": "",
     "delete_cmd_prefix": "del ",
     "library": "var_list.py",
     "varRefreshCmd": "print(var_dic_list())"
    },
    "r": {
     "delete_cmd_postfix": ") ",
     "delete_cmd_prefix": "rm(",
     "library": "var_list.r",
     "varRefreshCmd": "cat(var_dic_list()) "
    }
   },
   "types_to_exclude": [
    "module",
    "function",
    "builtin_function_or_method",
    "instance",
    "_Feature"
   ],
   "window_display": false
  }
 },
 "nbformat": 4,
 "nbformat_minor": 4
}
