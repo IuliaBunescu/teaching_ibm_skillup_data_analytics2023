{
 "cells": [
  {
   "cell_type": "markdown",
   "metadata": {},
   "source": [
    "# Programme d'analyse des données"
   ]
  },
  {
   "cell_type": "markdown",
   "metadata": {},
   "source": [
    "<table>\n",
    "    <tr>\n",
    "        <td><img width=200 src=\"https://upload.wikimedia.org/wikipedia/commons/thumb/5/51/IBM_logo.svg/800px-IBM_logo.svg.png\"></td>\n",
    "        <td><img width=200 src=\"https://skillup.online/_next/static/media/Logo.c31d02e9.svg\"></td>\n",
    "    </tr>\n",
    "<table>\n"
   ]
  },
  {
   "cell_type": "markdown",
   "metadata": {},
   "source": [
    "<div style=\"text-align: right\"><a>par </a><a href=\"https://www.linkedin.com/in/sheriff-data/\" target=\"_blank\">Manuel López Sheriff</a></div>"
   ]
  },
  {
   "cell_type": "markdown",
   "metadata": {},
   "source": [
    "Il y aura 5 sessions vidéo :\n",
    "\n",
    " 1. Introduction\n",
    "\n",
    " 2. Statistiques\n",
    "\n",
    " 3. Python\n",
    "\n",
    " 4. Tableau\n",
    "\n",
    " 5. Capstone Project"
   ]
  },
  {
   "cell_type": "markdown",
   "metadata": {},
   "source": [
    "Les sessions seront:\n",
    "\n",
    " - pratiques (cas d'utilisation, exercices de résolution...).\n",
    "\n",
    " - interactives (questions, enquêtes...)\n",
    "\n",
    " - en rapport avec le contenu du cours"
   ]
  },
  {
   "cell_type": "markdown",
   "metadata": {},
   "source": [
    "Gardez un cahier pour prendre des notes pendant la session !"
   ]
  },
  {
   "cell_type": "markdown",
   "metadata": {},
   "source": [
    "<img width=300 src=\"https://png.pngtree.com/png-clipart/20210528/ourlarge/pngtree-cartoon-character-learning-notepad-illustration-png-image_3375178.jpg\">"
   ]
  },
  {
   "cell_type": "markdown",
   "metadata": {},
   "source": [
    "Vous pouvez trouver le contenu et les ensembles de données que nous utiliserons sur [GitHub](https://github.com/sheriffff/teaching_ibm_skillup_data_analytics2023). Ils sont mis à jour après chaque cours."
   ]
  },
  {
   "cell_type": "markdown",
   "metadata": {},
   "source": [
    "### Jupyter notebook"
   ]
  },
  {
   "cell_type": "markdown",
   "metadata": {},
   "source": [
    "Là ou je travaille s'agit d'un [jupyter notebook](https://jupyter.org/).\n",
    "\n",
    " - Un hybride entre Power Point et un environnement de programmation.\n",
    "\n",
    " - Dont les fichiers ont l'extension `.ipynb`.\n",
    "\n",
    " - Pour le voir, vous pouvez :\n",
    "\n",
    "   - télécharger Python et jupyter (via Anaconda)\n",
    "\n",
    "   - le visualiser (et le modifier) à l'adresse [Google Colab](https://colab.research.google.com/?hl=es)\n",
    "\n",
    "   - le voir sur GitHub s'il y existe déjà\n",
    "\n",
    " - exportable au format `.html`"
   ]
  }
 ],
 "metadata": {
  "kernelspec": {
   "display_name": "Python 3 (ipykernel)",
   "language": "python",
   "name": "python3"
  },
  "language_info": {
   "codemirror_mode": {
    "name": "ipython",
    "version": 3
   },
   "file_extension": ".py",
   "mimetype": "text/x-python",
   "name": "python",
   "nbconvert_exporter": "python",
   "pygments_lexer": "ipython3",
   "version": "3.10.6"
  },
  "toc": {
   "base_numbering": 1,
   "nav_menu": {},
   "number_sections": false,
   "sideBar": true,
   "skip_h1_title": true,
   "title_cell": "Table of Contents",
   "title_sidebar": "Contents",
   "toc_cell": false,
   "toc_position": {},
   "toc_section_display": true,
   "toc_window_display": true
  },
  "varInspector": {
   "cols": {
    "lenName": 16,
    "lenType": 16,
    "lenVar": 40
   },
   "kernels_config": {
    "python": {
     "delete_cmd_postfix": "",
     "delete_cmd_prefix": "del ",
     "library": "var_list.py",
     "varRefreshCmd": "print(var_dic_list())"
    },
    "r": {
     "delete_cmd_postfix": ") ",
     "delete_cmd_prefix": "rm(",
     "library": "var_list.r",
     "varRefreshCmd": "cat(var_dic_list()) "
    }
   },
   "types_to_exclude": [
    "module",
    "function",
    "builtin_function_or_method",
    "instance",
    "_Feature"
   ],
   "window_display": false
  }
 },
 "nbformat": 4,
 "nbformat_minor": 4
}
