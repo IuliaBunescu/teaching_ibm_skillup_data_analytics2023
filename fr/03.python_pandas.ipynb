{
 "cells": [
  {
   "cell_type": "markdown",
   "id": "ad6c8e6f",
   "metadata": {},
   "source": [
    "# Python : pandas. Pratique et exercices"
   ]
  },
  {
   "cell_type": "markdown",
   "id": "3271adde",
   "metadata": {},
   "source": [
    "**NOTES**.\n",
    "\n",
    " - Il existe de nombreuses façons de résoudre chaque problème, trouvez la vôtre.\n",
    "\n",
    " - Créez les cellules supplémentaires dont vous avez besoin.\n",
    "\n",
    " - N'oubliez pas qu'une cellule peut être une cellule Code ou une cellule Markdown. Utilisez cette dernière pour écrire du texte et des explications si nécessaire.\n",
    "\n",
    " - Essayez de créer des variables lorsque vous résolvez les exercices.\n",
    "\n",
    " - Vous pouvez compter sur Internet : tous les programmeurs le font tous les jours."
   ]
  },
  {
   "cell_type": "markdown",
   "id": "2ba29cfa",
   "metadata": {},
   "source": [
    "<img width=500 src=\"https://upload.wikimedia.org/wikipedia/commons/3/31/TitanicBeken.jpg\">"
   ]
  },
  {
   "cell_type": "markdown",
   "id": "9f639e0c",
   "metadata": {},
   "source": [
    "Nous importons le fichier csv du Titanic dans un dataframe"
   ]
  },
  {
   "cell_type": "code",
   "execution_count": null,
   "id": "b951a413",
   "metadata": {},
   "outputs": [],
   "source": [
    "import pandas as pd"
   ]
  },
  {
   "cell_type": "code",
   "execution_count": null,
   "id": "8fba2802",
   "metadata": {},
   "outputs": [],
   "source": [
    "df = pd.read_csv(\"../datasets/titanic.csv\")"
   ]
  },
  {
   "cell_type": "markdown",
   "id": "d670ee16",
   "metadata": {},
   "source": [
    "Regardez les premières lignes de la base de données"
   ]
  },
  {
   "cell_type": "code",
   "execution_count": null,
   "id": "e384320c",
   "metadata": {},
   "outputs": [],
   "source": []
  },
  {
   "cell_type": "markdown",
   "id": "004b9f1d",
   "metadata": {},
   "source": [
    "Combien de passagers y a-t-il dans ce dataframe?"
   ]
  },
  {
   "cell_type": "code",
   "execution_count": null,
   "id": "d391a6cb",
   "metadata": {},
   "outputs": [],
   "source": []
  },
  {
   "cell_type": "markdown",
   "id": "3e013979",
   "metadata": {},
   "source": [
    "Quelles sont les colonnes du dataframe?"
   ]
  },
  {
   "cell_type": "code",
   "execution_count": null,
   "id": "8f14eaf3",
   "metadata": {},
   "outputs": [],
   "source": []
  },
  {
   "cell_type": "markdown",
   "id": "3a87358c",
   "metadata": {},
   "source": [
    "Liste les colonnes de type numérique"
   ]
  },
  {
   "cell_type": "code",
   "execution_count": null,
   "id": "df9b99d6",
   "metadata": {},
   "outputs": [],
   "source": []
  },
  {
   "cell_type": "markdown",
   "id": "d7662e6e",
   "metadata": {},
   "source": [
    "Quel est l'âge moyen des passagers ? Et la médiane ? Comment interpréter les résultats ?"
   ]
  },
  {
   "cell_type": "code",
   "execution_count": null,
   "id": "7ffd84d9",
   "metadata": {},
   "outputs": [],
   "source": []
  },
  {
   "cell_type": "markdown",
   "id": "0e35db9e",
   "metadata": {},
   "source": [
    "Combien a coûté le billet le plus cher ? Qui l'a payé ?"
   ]
  },
  {
   "cell_type": "code",
   "execution_count": null,
   "id": "54ad6530",
   "metadata": {},
   "outputs": [],
   "source": []
  },
  {
   "cell_type": "markdown",
   "id": "4e8491c9",
   "metadata": {},
   "source": [
    "Combien ont-ils payé entre tous les passagers ?"
   ]
  },
  {
   "cell_type": "code",
   "execution_count": null,
   "id": "b322593f",
   "metadata": {},
   "outputs": [],
   "source": []
  },
  {
   "cell_type": "markdown",
   "id": "333ba02f",
   "metadata": {},
   "source": [
    "Il serait nécessaire de vérifier s'il y a des données manquantes :"
   ]
  },
  {
   "cell_type": "code",
   "execution_count": null,
   "id": "b634ee3b",
   "metadata": {},
   "outputs": [],
   "source": []
  },
  {
   "cell_type": "markdown",
   "id": "016a1c8a",
   "metadata": {},
   "source": [
    "Qui était le plus jeune passager et quel âge avait-il ?"
   ]
  },
  {
   "cell_type": "code",
   "execution_count": null,
   "id": "8714fab4",
   "metadata": {},
   "outputs": [],
   "source": []
  },
  {
   "cell_type": "markdown",
   "id": "385acfc8",
   "metadata": {},
   "source": [
    "Combien de passagers avaient moins de 20 ans ? Quel est le pourcentage ?"
   ]
  },
  {
   "cell_type": "code",
   "execution_count": null,
   "id": "6e6319d2",
   "metadata": {},
   "outputs": [],
   "source": []
  },
  {
   "cell_type": "markdown",
   "id": "53ac3c6e",
   "metadata": {},
   "source": [
    "Quel est le 9e décile d'âge ?"
   ]
  },
  {
   "cell_type": "code",
   "execution_count": null,
   "id": "66ca8c42",
   "metadata": {},
   "outputs": [],
   "source": []
  },
  {
   "cell_type": "markdown",
   "id": "511a0e76",
   "metadata": {},
   "source": [
    "Combien de personnes ont survécu ? Combien de personnes sont mortes ?"
   ]
  },
  {
   "cell_type": "code",
   "execution_count": null,
   "id": "e6cd06f9",
   "metadata": {},
   "outputs": [],
   "source": []
  },
  {
   "cell_type": "markdown",
   "id": "9a6ab722",
   "metadata": {},
   "source": [
    "Combien de personnes y avait-il dans chaque classe ?"
   ]
  },
  {
   "cell_type": "code",
   "execution_count": null,
   "id": "d83990c8",
   "metadata": {},
   "outputs": [],
   "source": []
  },
  {
   "cell_type": "markdown",
   "id": "733f1621",
   "metadata": {},
   "source": [
    "Avait-il plus de chances de survivre en première classe ?"
   ]
  },
  {
   "cell_type": "code",
   "execution_count": null,
   "id": "389b8ec6",
   "metadata": {},
   "outputs": [],
   "source": []
  },
  {
   "cell_type": "markdown",
   "id": "ad7d8273",
   "metadata": {},
   "source": [
    "Avait-elle plus de chances de survivre en tant que femme ?"
   ]
  },
  {
   "cell_type": "code",
   "execution_count": null,
   "id": "e43da29e",
   "metadata": {},
   "outputs": [],
   "source": []
  },
  {
   "cell_type": "markdown",
   "id": "99cdacf5",
   "metadata": {},
   "source": [
    "Avec combien de membres de la famille les personnes ont-elles voyagé (dans la colonne SibSp) ?"
   ]
  },
  {
   "cell_type": "code",
   "execution_count": null,
   "id": "8184f53b",
   "metadata": {},
   "outputs": [],
   "source": []
  },
  {
   "cell_type": "markdown",
   "id": "7cd81de5",
   "metadata": {},
   "source": [
    "Combien de portes d'embarquement y avait-il ?"
   ]
  },
  {
   "cell_type": "code",
   "execution_count": null,
   "id": "6583c7cc",
   "metadata": {},
   "outputs": [],
   "source": []
  },
  {
   "cell_type": "markdown",
   "id": "124adb44",
   "metadata": {},
   "source": [
    "Créez un dataframe avec les personnes qui ont voyagé en première classe."
   ]
  },
  {
   "cell_type": "code",
   "execution_count": null,
   "id": "ba577b70",
   "metadata": {},
   "outputs": [],
   "source": []
  },
  {
   "cell_type": "markdown",
   "id": "d854f820",
   "metadata": {},
   "source": [
    "Créer un dataframe contenant les femmes et les enfants"
   ]
  },
  {
   "cell_type": "code",
   "execution_count": null,
   "id": "c902b328",
   "metadata": {},
   "outputs": [],
   "source": []
  },
  {
   "cell_type": "markdown",
   "id": "2a242164",
   "metadata": {},
   "source": [
    "Créez un dataframe avec les personnes qui ne voyageront pas sur le `S`."
   ]
  },
  {
   "cell_type": "code",
   "execution_count": null,
   "id": "bba13749",
   "metadata": {},
   "outputs": [],
   "source": []
  },
  {
   "cell_type": "markdown",
   "id": "de11160d",
   "metadata": {},
   "source": [
    "Créez un dataframe avec tous les \"ratés\"."
   ]
  },
  {
   "cell_type": "code",
   "execution_count": null,
   "id": "8bb615ed",
   "metadata": {},
   "outputs": [],
   "source": []
  },
  {
   "cell_type": "markdown",
   "id": "920739ae",
   "metadata": {},
   "source": [
    "Créer une colonne qui stocke le premier nom de famille du passager"
   ]
  },
  {
   "cell_type": "code",
   "execution_count": null,
   "id": "77007257",
   "metadata": {},
   "outputs": [],
   "source": []
  },
  {
   "cell_type": "markdown",
   "id": "b5cd89ac",
   "metadata": {},
   "source": [
    "Créez une colonne booléenne qui indique si le passager est majeur."
   ]
  },
  {
   "cell_type": "code",
   "execution_count": null,
   "id": "db57f6c6",
   "metadata": {},
   "outputs": [],
   "source": []
  },
  {
   "cell_type": "markdown",
   "id": "0febabcb",
   "metadata": {},
   "source": [
    "Créez une colonne avec l'année de naissance du passager."
   ]
  },
  {
   "cell_type": "code",
   "execution_count": null,
   "id": "fa055d75",
   "metadata": {},
   "outputs": [],
   "source": []
  },
  {
   "cell_type": "markdown",
   "id": "8855d855",
   "metadata": {},
   "source": [
    "Les billets de première classe étaient-ils plus chers ?"
   ]
  },
  {
   "cell_type": "code",
   "execution_count": null,
   "id": "00cd0bc2",
   "metadata": {},
   "outputs": [],
   "source": []
  },
  {
   "cell_type": "markdown",
   "id": "11562979",
   "metadata": {},
   "source": [
    "Les hommes étaient-ils plus jeunes que les femmes sur le Titanic ?"
   ]
  },
  {
   "cell_type": "code",
   "execution_count": null,
   "id": "830c29ed",
   "metadata": {},
   "outputs": [],
   "source": []
  },
  {
   "cell_type": "markdown",
   "id": "5a9c21f1",
   "metadata": {},
   "source": [
    "Le nombre de membres de la famille a-t-il une incidence sur la probabilité de survie ?"
   ]
  },
  {
   "cell_type": "code",
   "execution_count": null,
   "id": "38fd4f57",
   "metadata": {},
   "outputs": [],
   "source": []
  },
  {
   "cell_type": "markdown",
   "id": "5638fccc",
   "metadata": {},
   "source": [
    "Créez une colonne qui enregistre si le numéro de billet du passager contient des lettres. Définissez une fonction pour cela et utilisez `apply`."
   ]
  },
  {
   "cell_type": "code",
   "execution_count": null,
   "id": "a1b0f14a",
   "metadata": {},
   "outputs": [],
   "source": []
  },
  {
   "cell_type": "markdown",
   "id": "a97e5ec8",
   "metadata": {},
   "source": [
    "Exporter les données dans un fichier csv nommé `titanic_enriched.csv`."
   ]
  },
  {
   "cell_type": "code",
   "execution_count": null,
   "id": "788d3b00",
   "metadata": {},
   "outputs": [],
   "source": []
  }
 ],
 "metadata": {
  "kernelspec": {
   "display_name": "Python 3 (ipykernel)",
   "language": "python",
   "name": "python3"
  },
  "language_info": {
   "codemirror_mode": {
    "name": "ipython",
    "version": 3
   },
   "file_extension": ".py",
   "mimetype": "text/x-python",
   "name": "python",
   "nbconvert_exporter": "python",
   "pygments_lexer": "ipython3",
   "version": "3.10.6"
  },
  "toc": {
   "base_numbering": 1,
   "nav_menu": {},
   "number_sections": true,
   "sideBar": true,
   "skip_h1_title": true,
   "title_cell": "Table of Contents",
   "title_sidebar": "Contents",
   "toc_cell": false,
   "toc_position": {
    "height": "calc(100% - 180px)",
    "left": "10px",
    "top": "150px",
    "width": "370px"
   },
   "toc_section_display": true,
   "toc_window_display": false
  },
  "varInspector": {
   "cols": {
    "lenName": 16,
    "lenType": 16,
    "lenVar": 40
   },
   "kernels_config": {
    "python": {
     "delete_cmd_postfix": "",
     "delete_cmd_prefix": "del ",
     "library": "var_list.py",
     "varRefreshCmd": "print(var_dic_list())"
    },
    "r": {
     "delete_cmd_postfix": ") ",
     "delete_cmd_prefix": "rm(",
     "library": "var_list.r",
     "varRefreshCmd": "cat(var_dic_list()) "
    }
   },
   "types_to_exclude": [
    "module",
    "function",
    "builtin_function_or_method",
    "instance",
    "_Feature"
   ],
   "window_display": false
  }
 },
 "nbformat": 4,
 "nbformat_minor": 5
}
