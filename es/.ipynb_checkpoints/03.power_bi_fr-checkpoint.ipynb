{
 "cells": [
  {
   "cell_type": "markdown",
   "metadata": {},
   "source": [
    "# Power BI"
   ]
  },
  {
   "cell_type": "markdown",
   "metadata": {},
   "source": [
    "<table>\n",
    "    <tr>\n",
    "        <td><img width=200 src=\"https://upload.wikimedia.org/wikipedia/commons/thumb/5/51/IBM_logo.svg/800px-IBM_logo.svg.png\"></td>\n",
    "        <td><img width=200 src=\"https://skillup.online/_next/static/media/Logo.c31d02e9.svg\"></td>\n",
    "    </tr>\n",
    "<table>\n"
   ]
  },
  {
   "cell_type": "markdown",
   "metadata": {},
   "source": [
    "<div style=\"text-align: right\"><a>par </a><a href=\"https://www.linkedin.com/in/sheriff-data/\">Manuel López Sheriff</a></div>"
   ]
  },
  {
   "cell_type": "markdown",
   "metadata": {
    "toc": true
   },
   "source": [
    "<h1>Table of Contents<span class=\"tocSkip\"></span></h1>\n",
    "<div class=\"toc\"><ul class=\"toc-item\"><li><span><a href=\"#Précédent-:-Le-modèle-de-données-relationnel\" data-toc-modified-id=\"Précédent-:-Le-modèle-de-données-relationnel-1\"><span class=\"toc-item-num\">1&nbsp;&nbsp;</span>Précédent : Le modèle de données relationnel</a></span><ul class=\"toc-item\"><li><span><a href=\"#Introduction\" data-toc-modified-id=\"Introduction-1.1\"><span class=\"toc-item-num\">1.1&nbsp;&nbsp;</span>Introduction</a></span></li><li><span><a href=\"#SQL\" data-toc-modified-id=\"SQL-1.2\"><span class=\"toc-item-num\">1.2&nbsp;&nbsp;</span>SQL</a></span></li><li><span><a href=\"#Relations\" data-toc-modified-id=\"Relations-1.3\"><span class=\"toc-item-num\">1.3&nbsp;&nbsp;</span>Relations</a></span><ul class=\"toc-item\"><li><span><a href=\"#Inner-join\" data-toc-modified-id=\"Inner-join-1.3.1\"><span class=\"toc-item-num\">1.3.1&nbsp;&nbsp;</span>Inner join</a></span></li><li><span><a href=\"#Left-join\" data-toc-modified-id=\"Left-join-1.3.2\"><span class=\"toc-item-num\">1.3.2&nbsp;&nbsp;</span>Left join</a></span></li><li><span><a href=\"#Right-join\" data-toc-modified-id=\"Right-join-1.3.3\"><span class=\"toc-item-num\">1.3.3&nbsp;&nbsp;</span>Right join</a></span></li><li><span><a href=\"#Outer-join\" data-toc-modified-id=\"Outer-join-1.3.4\"><span class=\"toc-item-num\">1.3.4&nbsp;&nbsp;</span>Outer join</a></span></li></ul></li></ul></li><li><span><a href=\"#NoSQL\" data-toc-modified-id=\"NoSQL-2\"><span class=\"toc-item-num\">2&nbsp;&nbsp;</span>NoSQL</a></span></li><li><span><a href=\"#PowerBI\" data-toc-modified-id=\"PowerBI-3\"><span class=\"toc-item-num\">3&nbsp;&nbsp;</span>PowerBI</a></span><ul class=\"toc-item\"><li><span><a href=\"#Interface\" data-toc-modified-id=\"Interface-3.1\"><span class=\"toc-item-num\">3.1&nbsp;&nbsp;</span>Interface</a></span></li><li><span><a href=\"#Visualisations\" data-toc-modified-id=\"Visualisations-3.2\"><span class=\"toc-item-num\">3.2&nbsp;&nbsp;</span>Visualisations</a></span></li><li><span><a href=\"#Transformations-de-données\" data-toc-modified-id=\"Transformations-de-données-3.3\"><span class=\"toc-item-num\">3.3&nbsp;&nbsp;</span>Transformations de données</a></span><ul class=\"toc-item\"><li><span><a href=\"#Power-Query\" data-toc-modified-id=\"Power-Query-3.3.1\"><span class=\"toc-item-num\">3.3.1&nbsp;&nbsp;</span>Power Query</a></span></li></ul></li></ul></li></ul></div>"
   ]
  },
  {
   "cell_type": "markdown",
   "metadata": {},
   "source": [
    "<img width=400 src=\"https://logos-world.net/wp-content/uploads/2022/02/Microsoft-Power-BI-Symbol.png\">"
   ]
  },
  {
   "cell_type": "markdown",
   "metadata": {},
   "source": [
    "## Précédent : Le modèle de données relationnel"
   ]
  },
  {
   "cell_type": "markdown",
   "metadata": {},
   "source": [
    "Universel, pré-PowerBI"
   ]
  },
  {
   "cell_type": "markdown",
   "metadata": {},
   "source": [
    "Motivation : Comment stockeriez-vous les informations de 5 clients d'une banque ? Vous devez enregistrer\n",
    "\n",
    " - informations personnelles\n",
    " - les informations sur le compte bancaire,\n",
    " - informations sur les transactions"
   ]
  },
  {
   "cell_type": "markdown",
   "metadata": {},
   "source": [
    "### Introduction"
   ]
  },
  {
   "cell_type": "markdown",
   "metadata": {},
   "source": [
    "En 1970, le Dr E. F. Codd du laboratoire de recherche **IBM** a publié un article intitulé \"A Relational Model of Data for Large Shared Data Banks\".\n",
    "\n",
    "\n",
    "\n",
    "Il y proposait que les données puissent être représentées efficacement dans un ensemble de tableaux en établissant des relations entre certains de leurs champs."
   ]
  },
  {
   "cell_type": "markdown",
   "metadata": {},
   "source": [
    "C'est ainsi que les bases de données relationnelles ont vu le jour"
   ]
  },
  {
   "cell_type": "code",
   "execution_count": null,
   "metadata": {},
   "outputs": [],
   "source": []
  },
  {
   "cell_type": "code",
   "execution_count": null,
   "metadata": {},
   "outputs": [],
   "source": []
  },
  {
   "cell_type": "code",
   "execution_count": null,
   "metadata": {},
   "outputs": [],
   "source": []
  },
  {
   "cell_type": "code",
   "execution_count": null,
   "metadata": {},
   "outputs": [],
   "source": []
  },
  {
   "cell_type": "code",
   "execution_count": null,
   "metadata": {},
   "outputs": [],
   "source": []
  },
  {
   "cell_type": "code",
   "execution_count": null,
   "metadata": {},
   "outputs": [],
   "source": []
  },
  {
   "cell_type": "code",
   "execution_count": null,
   "metadata": {},
   "outputs": [],
   "source": []
  },
  {
   "cell_type": "markdown",
   "metadata": {},
   "source": [
    "<img width=500 src=\"https://www.oreilly.com/api/v2/epubs/9781492057604/files/assets/lsq3_0103.png\">"
   ]
  },
  {
   "cell_type": "markdown",
   "metadata": {},
   "source": [
    "L'image montre quatre tableaux : clients, comptes, produits et transactions.\n",
    "\n",
    "\n",
    "\n",
    "En général, chaque table d'une base de données relationnelle comprend une clé primaire, unique à la table et identifiant la ligne correspondante.\n",
    "\n",
    "\n",
    "\n",
    "Chaque ligne comporte également des informations supplémentaires nécessaires à la description de l'entité.\n",
    "\n",
    "\n",
    "\n",
    "Remarques :\n",
    "\n",
    " - dans la table **Customer**, la colonne **cust_id** est une clé primaire : elle contient une valeur différente pour chaque client.\n",
    "\n",
    " - dans la table **Customer** il peut y avoir plus d'un George Blake\n",
    "\n",
    " - dans la table **Account**, la colonne **account_id** est la clé primaire : elle contient une valeur différente pour chaque compte.\n",
    "\n",
    " - dans la table **Account**, la colonne **cust_id** a des valeurs répétées, liées au client correspondant\n"
   ]
  },
  {
   "cell_type": "markdown",
   "metadata": {},
   "source": [
    "[Pourquoi ne pas utiliser excel comme base de données](https://www.bbc.com/news/technology-54423988)"
   ]
  },
  {
   "cell_type": "markdown",
   "metadata": {},
   "source": [
    "### SQL"
   ]
  },
  {
   "cell_type": "markdown",
   "metadata": {},
   "source": [
    "**S**tructured **Q**uery **L**language est un langage de base de données utilisé pour :\n",
    "\n",
    " - créer\n",
    "\n",
    " - gérer\n",
    "\n",
    " - consulter\n",
    "\n",
    "\n",
    "\n",
    "données d'une base de données relationnelle"
   ]
  },
  {
   "cell_type": "markdown",
   "metadata": {},
   "source": [
    "Une requête simple typique a la forme suivante :"
   ]
  },
  {
   "cell_type": "markdown",
   "metadata": {},
   "source": [
    "```sql\n",
    "SELECT * \n",
    "FROM Account\n",
    "WHERE balance > 1000\n",
    "```"
   ]
  },
  {
   "cell_type": "markdown",
   "metadata": {},
   "source": [
    "### Relations"
   ]
  },
  {
   "cell_type": "markdown",
   "metadata": {},
   "source": [
    "Les relations sont utilisées pour connecter les tables.\n",
    "\n",
    "\n",
    "\n",
    "Il est nécessaire de le préciser :\n",
    "\n",
    " - les tables à relier\n",
    "\n",
    " - les champs à utiliser pour la relation\n",
    "\n",
    " - le type de relation"
   ]
  },
  {
   "cell_type": "markdown",
   "metadata": {},
   "source": [
    "<img width=500 src=\"https://i.ibb.co/1McD7X7/join-in-sql-1.png\">"
   ]
  },
  {
   "cell_type": "markdown",
   "metadata": {},
   "source": [
    "Les types de relations les plus couramment utilisés sont les suivants :\n",
    "\n",
    "\n",
    "\n",
    " - **INNER JOIN** : renvoie les enregistrements qui ont des valeurs correspondantes dans les deux tables.\n",
    "\n",
    " - **LEFT JOIN** : renvoie tous les enregistrements de la table de gauche et les enregistrements correspondants de la table de droite.\n",
    "\n",
    " - **RIGHT JOIN** : renvoie tous les enregistrements de la table de droite et les enregistrements correspondants de la table de gauche.\n",
    "\n",
    " - **FULL OUTER JOIN** : renvoie tous les enregistrements lorsqu'il existe une correspondance dans la table de gauche ou de droite."
   ]
  },
  {
   "cell_type": "markdown",
   "metadata": {},
   "source": [
    "<img width=600 src=\"https://estradawebgroup.com/ImagesUpload/sql-joins.jpg\">"
   ]
  },
  {
   "cell_type": "markdown",
   "metadata": {},
   "source": [
    "**Exercice** : étant donné ces deux tableaux,"
   ]
  },
  {
   "cell_type": "code",
   "execution_count": null,
   "metadata": {},
   "outputs": [],
   "source": [
    "import pandas as pd"
   ]
  },
  {
   "cell_type": "code",
   "execution_count": null,
   "metadata": {},
   "outputs": [],
   "source": [
    "customers = pd.read_csv(\"../datasets/customers_sample.csv\")"
   ]
  },
  {
   "cell_type": "code",
   "execution_count": null,
   "metadata": {},
   "outputs": [],
   "source": [
    "orders = pd.read_csv(\"../datasets/orders_sample.csv\")"
   ]
  },
  {
   "cell_type": "code",
   "execution_count": null,
   "metadata": {},
   "outputs": [],
   "source": [
    "customers"
   ]
  },
  {
   "cell_type": "code",
   "execution_count": null,
   "metadata": {},
   "outputs": [],
   "source": [
    "orders"
   ]
  },
  {
   "cell_type": "markdown",
   "metadata": {},
   "source": [
    "Quel résultat obtenons-nous en établissant une relation par le champ `customers.customer_id` et `orders.customer` dans chacun de ces cas ?\n",
    "\n",
    " - jointure intérieure\n",
    "\n",
    " - jointure gauche\n",
    "\n",
    " - jointure droite\n",
    "\n",
    " - jointure externe complète"
   ]
  },
  {
   "cell_type": "markdown",
   "metadata": {},
   "source": [
    "#### Inner join"
   ]
  },
  {
   "cell_type": "code",
   "execution_count": null,
   "metadata": {},
   "outputs": [],
   "source": [
    "pd.merge(\n",
    "    left=customers, \n",
    "    right=orders, \n",
    "    left_on=\"customer_id\",\n",
    "    right_on=\"customer\",\n",
    "    how=\"inner\"\n",
    ")"
   ]
  },
  {
   "cell_type": "markdown",
   "metadata": {},
   "source": [
    "#### Left join"
   ]
  },
  {
   "cell_type": "code",
   "execution_count": null,
   "metadata": {},
   "outputs": [],
   "source": [
    "pd.merge(\n",
    "    left=customers, \n",
    "    right=orders, \n",
    "    left_on=\"customer_id\",\n",
    "    right_on=\"customer\",\n",
    "    how=\"left\"\n",
    ")"
   ]
  },
  {
   "cell_type": "markdown",
   "metadata": {},
   "source": [
    "#### Right join"
   ]
  },
  {
   "cell_type": "code",
   "execution_count": null,
   "metadata": {},
   "outputs": [],
   "source": [
    "pd.merge(\n",
    "    left=customers, \n",
    "    right=orders, \n",
    "    left_on=\"customer_id\",\n",
    "    right_on=\"customer\",\n",
    "    how=\"right\"\n",
    ")"
   ]
  },
  {
   "cell_type": "markdown",
   "metadata": {},
   "source": [
    "#### Outer join"
   ]
  },
  {
   "cell_type": "code",
   "execution_count": null,
   "metadata": {},
   "outputs": [],
   "source": [
    "pd.merge(\n",
    "    left=customers, \n",
    "    right=orders, \n",
    "    left_on=\"customer_id\",\n",
    "    right_on=\"customer\",\n",
    "    how=\"outer\"\n",
    ")"
   ]
  },
  {
   "cell_type": "markdown",
   "metadata": {},
   "source": [
    "Un rappel amusant :"
   ]
  },
  {
   "cell_type": "markdown",
   "metadata": {},
   "source": [
    "<img width=300 src=\"https://external-preview.redd.it/yOLzCR0qSzul2WpjQorxINB0xpU3_N9twmFVsgbGJwQ.jpg?auto=webp&s=4feedc91302ba635b3028a21b98d047def5cdc2b\">"
   ]
  },
  {
   "cell_type": "markdown",
   "metadata": {},
   "source": [
    "Dans Power BI, nous établissons les relations dans la vue **Model**."
   ]
  },
  {
   "cell_type": "markdown",
   "metadata": {},
   "source": [
    "## NoSQL"
   ]
  },
  {
   "cell_type": "markdown",
   "metadata": {},
   "source": [
    "Il existe également des bases de données **non relationnelles** (également appelées NoSQL). Ils stockent les données non pas sous forme de tableaux, mais dans des structures de type document, JSON."
   ]
  },
  {
   "cell_type": "markdown",
   "metadata": {},
   "source": [
    "```json\n",
    "[\n",
    "    {\n",
    "        \"id\": 1,\n",
    "        \"name\": \"John\",\n",
    "        \"age\": 44,\n",
    "        \"sports\":\n",
    "            [\n",
    "                \"soccer\",\n",
    "                \"basket\",\n",
    "                \"volley\"\n",
    "            ],\n",
    "        \"has_children\": 1,\n",
    "    },\n",
    "    {\n",
    "        \"id\": 2,\n",
    "        \"name\": \"Marie\"\n",
    "    },\n",
    "    {\n",
    "        \"id\": 3,\n",
    "        \"name\": \"Jason\",\n",
    "        \"has_children\": 0\n",
    "    }\n",
    "]\n",
    "```"
   ]
  },
  {
   "cell_type": "markdown",
   "metadata": {},
   "source": [
    "Les bases de données NoSQL sont devenues très populaires ces dernières années. Elles présentent des avantages et des inconvénients par rapport aux bases de données relationnelles (SQL)."
   ]
  },
  {
   "cell_type": "markdown",
   "metadata": {},
   "source": [
    "## PowerBI"
   ]
  },
  {
   "cell_type": "markdown",
   "metadata": {},
   "source": [
    "Nous utiliserons la base de données WWI (Wide World Importers) (plusieurs tables).\n",
    "\n",
    "\n",
    "\n",
    "Contient les transactions d'un grossiste vers plusieurs détaillants."
   ]
  },
  {
   "cell_type": "markdown",
   "metadata": {},
   "source": [
    "Les principaux tableaux sont les suivants :\n",
    "\n",
    " - sales.csv : transactions\n",
    "\n",
    " - customers.csv : clients\n",
    "\n",
    " - employees.xlsx : employés\n",
    "\n",
    " - cities.csv : régions\n",
    "\n",
    " - dates.csv : dates\n",
    "\n",
    " - stock.csv : produits"
   ]
  },
  {
   "cell_type": "markdown",
   "metadata": {},
   "source": [
    "### Interface"
   ]
  },
  {
   "cell_type": "markdown",
   "metadata": {},
   "source": [
    "Il y a 3 vues\n",
    "\n",
    " - Report : C'est ici que nous configurons nos tableaux de bord. Il comporte plusieurs pages\n",
    " - Data : nous explorons ici le détail des données.\n",
    " - Model : nous déterminons ici les relations entre les tables"
   ]
  },
  {
   "cell_type": "markdown",
   "metadata": {},
   "source": [
    "### Visualisations"
   ]
  },
  {
   "cell_type": "markdown",
   "metadata": {},
   "source": [
    "Certains des graphiques les plus courants dans PowerBI sont :"
   ]
  },
  {
   "cell_type": "markdown",
   "metadata": {},
   "source": [
    " - Column Chart\n",
    " - Card\n",
    " - Slicer\n",
    " - Table"
   ]
  },
  {
   "cell_type": "markdown",
   "metadata": {},
   "source": [
    "### Transformations de données"
   ]
  },
  {
   "cell_type": "markdown",
   "metadata": {},
   "source": [
    "En tant qu'analystes de données, nous avons parfois envie de le faire :\n",
    "\n",
    "  * Sauter des colonnes\n",
    "\n",
    "  * Formater correctement une colonne\n",
    "\n",
    "  * Ajouter ou supprimer des caractères\n",
    "\n",
    "  * Gérer les valeurs nulles\n",
    "\n",
    "  * Limiter le nombre de lignes\n",
    "\n",
    "  * etc..."
   ]
  },
  {
   "cell_type": "markdown",
   "metadata": {},
   "source": [
    "#### Power Query"
   ]
  },
  {
   "cell_type": "markdown",
   "metadata": {},
   "source": [
    "Il s'agit d'un onglet séparé que nous utilisons pour **prétraiter avant de charger** les données.\n",
    "\n",
    "\n",
    "\n",
    "Il utilise le langage M, bien qu'il ne soit pas nécessaire de le maîtriser pour pouvoir le prétraiter.\n",
    "\n",
    "\n",
    "\n",
    "Nous devons toujours **fermer et appliquer** pour faire nos changements."
   ]
  },
  {
   "cell_type": "markdown",
   "metadata": {},
   "source": [
    "Parmi les fonctionnalités les plus utilisées, citons\n",
    " - Change type\n",
    " - Remove rows\n",
    " - Use first row as header\n",
    " - Remove columns"
   ]
  }
 ],
 "metadata": {
  "kernelspec": {
   "display_name": "Python 3",
   "language": "python",
   "name": "python3"
  },
  "language_info": {
   "codemirror_mode": {
    "name": "ipython",
    "version": 3
   },
   "file_extension": ".py",
   "mimetype": "text/x-python",
   "name": "python",
   "nbconvert_exporter": "python",
   "pygments_lexer": "ipython3",
   "version": "3.8.10"
  },
  "toc": {
   "base_numbering": 1,
   "nav_menu": {},
   "number_sections": true,
   "sideBar": true,
   "skip_h1_title": true,
   "title_cell": "Table of Contents",
   "title_sidebar": "Contents",
   "toc_cell": true,
   "toc_position": {
    "height": "calc(100% - 180px)",
    "left": "10px",
    "top": "150px",
    "width": "341.333px"
   },
   "toc_section_display": true,
   "toc_window_display": true
  }
 },
 "nbformat": 4,
 "nbformat_minor": 4
}
