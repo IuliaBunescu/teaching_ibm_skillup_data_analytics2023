{
 "cells": [
  {
   "cell_type": "markdown",
   "metadata": {
    "toc": true
   },
   "source": [
    "<h1>Table of Contents<span class=\"tocSkip\"></span></h1>\n",
    "<div class=\"toc\"><ul class=\"toc-item\"><li><ul class=\"toc-item\"><li><span><a href=\"#Visualizaciones\" data-toc-modified-id=\"Visualizaciones-0.1\"><span class=\"toc-item-num\">0.1&nbsp;&nbsp;</span>Visualizaciones</a></span></li><li><span><a href=\"#Transformaciones-de-datos\" data-toc-modified-id=\"Transformaciones-de-datos-0.2\"><span class=\"toc-item-num\">0.2&nbsp;&nbsp;</span>Transformaciones de datos</a></span></li><li><span><a href=\"#Otros\" data-toc-modified-id=\"Otros-0.3\"><span class=\"toc-item-num\">0.3&nbsp;&nbsp;</span>Otros</a></span><ul class=\"toc-item\"><li><span><a href=\"#Power-Query\" data-toc-modified-id=\"Power-Query-0.3.1\"><span class=\"toc-item-num\">0.3.1&nbsp;&nbsp;</span>Power Query</a></span></li></ul></li></ul></li><li><span><a href=\"#Apéndice\" data-toc-modified-id=\"Apéndice-1\"><span class=\"toc-item-num\">1&nbsp;&nbsp;</span>Apéndice</a></span><ul class=\"toc-item\"><li><span><a href=\"#la-exponencial\" data-toc-modified-id=\"la-exponencial-1.1\"><span class=\"toc-item-num\">1.1&nbsp;&nbsp;</span>la exponencial</a></span></li><li><span><a href=\"#el-logaritmo\" data-toc-modified-id=\"el-logaritmo-1.2\"><span class=\"toc-item-num\">1.2&nbsp;&nbsp;</span>el logaritmo</a></span></li></ul></li></ul></div>"
   ]
  },
  {
   "cell_type": "markdown",
   "metadata": {},
   "source": [
    "### Visualizaciones"
   ]
  },
  {
   "cell_type": "markdown",
   "metadata": {},
   "source": [
    "Algunos de los gráficos más comunes en PowerBI son:"
   ]
  },
  {
   "cell_type": "markdown",
   "metadata": {},
   "source": [
    " - Column Chart\n",
    " - Stacked Chart\n",
    " - Card\n",
    " - Slicer\n",
    " - Table\n",
    " - Pie and Donut chart\n",
    " - Map"
   ]
  },
  {
   "cell_type": "markdown",
   "metadata": {},
   "source": [
    "### Transformaciones de datos"
   ]
  },
  {
   "cell_type": "markdown",
   "metadata": {},
   "source": [
    "Como analistas de datos, a veces queremos:  \n",
    "  * Obviar columnas\n",
    "  * Formatear adecuadamente una columna\n",
    "  * Añadir o eliminar caracteres\n",
    "  * Tratar valores nulos\n",
    "  * Limitar el número de filas\n",
    "  * Editar texto de columnas\n",
    "  * etc..."
   ]
  },
  {
   "cell_type": "markdown",
   "metadata": {},
   "source": [
    "### Otros"
   ]
  },
  {
   "cell_type": "markdown",
   "metadata": {},
   "source": [
    " - Configuración regional: `.`, `,` decimales\n",
    " - Introducir nuevo data\n",
    " - Columnas de índice"
   ]
  },
  {
   "cell_type": "markdown",
   "metadata": {},
   "source": [
    "#### Power Query"
   ]
  },
  {
   "cell_type": "markdown",
   "metadata": {},
   "source": [
    "Se trata de una pestaña independiente que utilizamos para **preprocesar antes de cargar** datos\n",
    "\n",
    "Utiliza el lenguaje M, aunque no es preciso dominarlo para poder preprocesar\n",
    "\n",
    "Siempre debemos **close and apply** para efectuar nuestros cambios"
   ]
  },
  {
   "cell_type": "markdown",
   "metadata": {},
   "source": [
    "Algunas features muy utilizadas son:\n",
    " - Change type\n",
    " - Remove rows\n",
    " - Use first row as header\n",
    " - Remove columns"
   ]
  },
  {
   "cell_type": "markdown",
   "metadata": {},
   "source": [
    "## Apéndice"
   ]
  },
  {
   "cell_type": "markdown",
   "metadata": {},
   "source": [
    "### la exponencial"
   ]
  },
  {
   "cell_type": "markdown",
   "metadata": {},
   "source": [
    "**Ejemplo**: tengo 1000 euros en el banco. Cada año me dan un 5% de mi dinero. Cuánto dinero tengo:\n",
    " - pasado 1 año\n",
    " - pasado 2 años\n",
    " - pasado 50 años"
   ]
  },
  {
   "cell_type": "code",
   "execution_count": null,
   "metadata": {},
   "outputs": [],
   "source": [
    "import numpy as np\n",
    "import matplotlib.pyplot as plt"
   ]
  },
  {
   "cell_type": "code",
   "execution_count": null,
   "metadata": {},
   "outputs": [],
   "source": [
    "n_years = 50"
   ]
  },
  {
   "cell_type": "code",
   "execution_count": null,
   "metadata": {},
   "outputs": [],
   "source": [
    "years = np.arange(0, n_years, 1)"
   ]
  },
  {
   "cell_type": "code",
   "execution_count": null,
   "metadata": {},
   "outputs": [],
   "source": [
    "money_simple = 1000 * (1 + 5 / 100 * years)"
   ]
  },
  {
   "cell_type": "code",
   "execution_count": null,
   "metadata": {},
   "outputs": [],
   "source": [
    "money_compuesto = 1000 * (1 + 5 / 100) ** years"
   ]
  },
  {
   "cell_type": "code",
   "execution_count": null,
   "metadata": {},
   "outputs": [],
   "source": [
    "print(f\"A los {n_years} años tendría {money_simple[-1].round()} simple\")"
   ]
  },
  {
   "cell_type": "code",
   "execution_count": null,
   "metadata": {},
   "outputs": [],
   "source": [
    "print(f\"A los {n_years} años tendría {money_compuesto[-1].round()} compuesto\")"
   ]
  },
  {
   "cell_type": "code",
   "execution_count": null,
   "metadata": {},
   "outputs": [],
   "source": [
    "plt.plot(years, money_simple, label=\"interés simple\")\n",
    "plt.plot(years, money_compuesto, \"-\", label=\"interés compuesto\")\n",
    "plt.legend()"
   ]
  },
  {
   "cell_type": "markdown",
   "metadata": {},
   "source": [
    "En la exponencial, un incremento de **una unidad en X** implica **multiplicación en Y** por una constante"
   ]
  },
  {
   "cell_type": "markdown",
   "metadata": {},
   "source": [
    "$2^3=2 \\cdot 2 \\cdot 2 = 8$  \n",
    "$2^4=16$"
   ]
  },
  {
   "cell_type": "markdown",
   "metadata": {},
   "source": [
    "$10^3= $  \n",
    "$10^4= $  \n",
    "$10^{-2}=$"
   ]
  },
  {
   "cell_type": "markdown",
   "metadata": {},
   "source": [
    "### el logaritmo"
   ]
  },
  {
   "cell_type": "markdown",
   "metadata": {},
   "source": [
    "Es el recíproco de la exponencial"
   ]
  },
  {
   "cell_type": "markdown",
   "metadata": {},
   "source": [
    "$\\log_{10}(1000) = $"
   ]
  },
  {
   "cell_type": "markdown",
   "metadata": {},
   "source": [
    "A qué número tengo que elevar $10$ para obtener $1000$?"
   ]
  },
  {
   "cell_type": "markdown",
   "metadata": {},
   "source": [
    "$10^3 = 1000 \\Rightarrow \\log_{10}(1000) = 3$"
   ]
  },
  {
   "cell_type": "markdown",
   "metadata": {},
   "source": [
    "**Ejercicios**"
   ]
  },
  {
   "cell_type": "markdown",
   "metadata": {},
   "source": [
    "$\\log_{3}(9) = $"
   ]
  },
  {
   "cell_type": "markdown",
   "metadata": {},
   "source": [
    "$\\log_{2}(0.25) = $"
   ]
  },
  {
   "cell_type": "code",
   "execution_count": null,
   "metadata": {},
   "outputs": [],
   "source": [
    "x = np.arange(1, 1000, 1)"
   ]
  },
  {
   "cell_type": "code",
   "execution_count": null,
   "metadata": {},
   "outputs": [],
   "source": [
    "y = np.log10(x)"
   ]
  },
  {
   "cell_type": "code",
   "execution_count": null,
   "metadata": {},
   "outputs": [],
   "source": [
    "fig, ax = plt.subplots(figsize=(20, 2))\n",
    "ax.plot(x, y, label=\"$log_{10}(x)$\")\n",
    "# X and Y axes\n",
    "ax.axhline(y=0, color='k')\n",
    "ax.axvline(x=0, color='k')\n",
    "\n",
    "# set axes' limits\n",
    "ax.set_xlim([0, 100])\n",
    "ax.set_ylim([0, 3])\n",
    "\n",
    "fig.legend()"
   ]
  },
  {
   "cell_type": "code",
   "execution_count": null,
   "metadata": {},
   "outputs": [],
   "source": [
    "fig, ax = plt.subplots()\n",
    "ax.plot(x, y, label=\"$log_{10}(x)$\")\n",
    "# X and Y axes\n",
    "ax.axhline(y=0, color='k')\n",
    "ax.axvline(x=0, color='k')\n",
    "\n",
    "fig.legend()"
   ]
  },
  {
   "cell_type": "markdown",
   "metadata": {},
   "source": [
    "El logaritmo transforma números de diferentes escalas (10, 100, 1000) en números similares (1, 2, 3)"
   ]
  },
  {
   "cell_type": "markdown",
   "metadata": {},
   "source": [
    "Ejemplo de salarios"
   ]
  },
  {
   "cell_type": "code",
   "execution_count": null,
   "metadata": {},
   "outputs": [],
   "source": [
    "salaries = 10 ** (np.random.rand(300) * 3 + 2)"
   ]
  },
  {
   "cell_type": "code",
   "execution_count": null,
   "metadata": {},
   "outputs": [],
   "source": [
    "salaries[:10]"
   ]
  },
  {
   "cell_type": "code",
   "execution_count": null,
   "metadata": {},
   "outputs": [],
   "source": [
    "for s in salaries[:10]:\n",
    "    print(int(round(s, -2)))"
   ]
  },
  {
   "cell_type": "code",
   "execution_count": null,
   "metadata": {},
   "outputs": [],
   "source": [
    "import seaborn as sns"
   ]
  },
  {
   "cell_type": "markdown",
   "metadata": {},
   "source": [
    "Un plot de los salarios no es muy claro"
   ]
  },
  {
   "cell_type": "code",
   "execution_count": null,
   "metadata": {},
   "outputs": [],
   "source": [
    "sns.histplot(x=salaries)"
   ]
  },
  {
   "cell_type": "markdown",
   "metadata": {},
   "source": [
    "Un plot del logaritmo de los salarios es más claro"
   ]
  },
  {
   "cell_type": "code",
   "execution_count": null,
   "metadata": {},
   "outputs": [],
   "source": [
    "sns.histplot(x=np.log10(salaries))"
   ]
  },
  {
   "cell_type": "code",
   "execution_count": null,
   "metadata": {},
   "outputs": [],
   "source": []
  }
 ],
 "metadata": {
  "kernelspec": {
   "display_name": "Python 3",
   "language": "python",
   "name": "python3"
  },
  "language_info": {
   "codemirror_mode": {
    "name": "ipython",
    "version": 3
   },
   "file_extension": ".py",
   "mimetype": "text/x-python",
   "name": "python",
   "nbconvert_exporter": "python",
   "pygments_lexer": "ipython3",
   "version": "3.8.10"
  },
  "toc": {
   "base_numbering": 1,
   "nav_menu": {},
   "number_sections": true,
   "sideBar": true,
   "skip_h1_title": true,
   "title_cell": "Table of Contents",
   "title_sidebar": "Contents",
   "toc_cell": true,
   "toc_position": {},
   "toc_section_display": true,
   "toc_window_display": true
  }
 },
 "nbformat": 4,
 "nbformat_minor": 4
}
