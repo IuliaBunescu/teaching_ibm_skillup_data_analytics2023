{
 "cells": [
  {
   "cell_type": "markdown",
   "id": "37091fc7",
   "metadata": {},
   "source": [
    "# Python: pandas. Práctica y ejercicios"
   ]
  },
  {
   "cell_type": "markdown",
   "id": "598b2b8c",
   "metadata": {},
   "source": [
    "**NOTAS**\n",
    " - Hay muchas formas de resolver cada problema, encuentra la tuya.\n",
    " - Crea las celdas extra que necesites.\n",
    " - Recuerda que una celda puede ser de tipo Código, o de tipo Markdown. Utiliza las segundas para escribir texto y explicaciones si lo precisas.\n",
    " - Intenta crear variables a la hora de resolver los ejercicios.\n",
    " - Puedes apoyarte en internet: todos los programadores lo hacemos a diario."
   ]
  },
  {
   "cell_type": "markdown",
   "id": "2ba29cfa",
   "metadata": {},
   "source": [
    "<img width=500 src=\"https://upload.wikimedia.org/wikipedia/commons/3/31/TitanicBeken.jpg\">"
   ]
  },
  {
   "cell_type": "markdown",
   "id": "93dc168d",
   "metadata": {},
   "source": [
    "Importamos el csv del titanic a un dataframe"
   ]
  },
  {
   "cell_type": "code",
   "execution_count": null,
   "id": "b951a413",
   "metadata": {},
   "outputs": [],
   "source": [
    "import pandas as pd"
   ]
  },
  {
   "cell_type": "code",
   "execution_count": null,
   "id": "8fba2802",
   "metadata": {},
   "outputs": [],
   "source": [
    "df = pd.read_csv(\"../datasets/titanic.csv\")"
   ]
  },
  {
   "cell_type": "markdown",
   "id": "c637e394",
   "metadata": {},
   "source": [
    "Echa un vistazo a las primeras filas del dataframe"
   ]
  },
  {
   "cell_type": "code",
   "execution_count": null,
   "id": "e384320c",
   "metadata": {},
   "outputs": [],
   "source": []
  },
  {
   "cell_type": "markdown",
   "id": "1fa575dd",
   "metadata": {},
   "source": [
    "Cuántos pasajeros hay en este dataframe?"
   ]
  },
  {
   "cell_type": "code",
   "execution_count": null,
   "id": "d391a6cb",
   "metadata": {},
   "outputs": [],
   "source": []
  },
  {
   "cell_type": "markdown",
   "id": "781de700",
   "metadata": {},
   "source": [
    "Cuáles son las columnas del dataframe?"
   ]
  },
  {
   "cell_type": "code",
   "execution_count": null,
   "id": "8f14eaf3",
   "metadata": {},
   "outputs": [],
   "source": []
  },
  {
   "cell_type": "markdown",
   "id": "f99cb671",
   "metadata": {},
   "source": [
    "Enumera las columnas de tipo numérico"
   ]
  },
  {
   "cell_type": "code",
   "execution_count": null,
   "id": "df9b99d6",
   "metadata": {},
   "outputs": [],
   "source": []
  },
  {
   "cell_type": "markdown",
   "id": "9cb5dca0",
   "metadata": {},
   "source": [
    "Cuál es la edad media de los pasajeros? Y la mediana? Cómo interpretas el resultado?"
   ]
  },
  {
   "cell_type": "code",
   "execution_count": null,
   "id": "7ffd84d9",
   "metadata": {},
   "outputs": [],
   "source": []
  },
  {
   "cell_type": "markdown",
   "id": "a12dbd76",
   "metadata": {},
   "source": [
    "Cuánto costó el billete más caro? Quién lo pagó?"
   ]
  },
  {
   "cell_type": "code",
   "execution_count": null,
   "id": "54ad6530",
   "metadata": {},
   "outputs": [],
   "source": []
  },
  {
   "cell_type": "markdown",
   "id": "ccdca696",
   "metadata": {},
   "source": [
    "Cuánto pagaron entre todos los pasajeros?"
   ]
  },
  {
   "cell_type": "code",
   "execution_count": null,
   "id": "b322593f",
   "metadata": {},
   "outputs": [],
   "source": []
  },
  {
   "cell_type": "markdown",
   "id": "947d433e",
   "metadata": {},
   "source": [
    "Habría que chequear si hay algún dato faltante:"
   ]
  },
  {
   "cell_type": "code",
   "execution_count": null,
   "id": "b634ee3b",
   "metadata": {},
   "outputs": [],
   "source": []
  },
  {
   "cell_type": "markdown",
   "id": "bd7fd983",
   "metadata": {},
   "source": [
    "Quién era el pasajero más joven y qué edad tenía?"
   ]
  },
  {
   "cell_type": "code",
   "execution_count": null,
   "id": "8714fab4",
   "metadata": {},
   "outputs": [],
   "source": []
  },
  {
   "cell_type": "markdown",
   "id": "95c362fb",
   "metadata": {},
   "source": [
    "Cuántos pasajeros eran menores de 20? Qué porcentaje?"
   ]
  },
  {
   "cell_type": "code",
   "execution_count": null,
   "id": "6e6319d2",
   "metadata": {},
   "outputs": [],
   "source": []
  },
  {
   "cell_type": "markdown",
   "id": "cb3539b1",
   "metadata": {},
   "source": [
    "Cual es el decil 9 de la edad?"
   ]
  },
  {
   "cell_type": "code",
   "execution_count": null,
   "id": "66ca8c42",
   "metadata": {},
   "outputs": [],
   "source": []
  },
  {
   "cell_type": "markdown",
   "id": "1fafcab6",
   "metadata": {},
   "source": [
    "Cuánta gente sobrevivió? Cuánta murió?"
   ]
  },
  {
   "cell_type": "code",
   "execution_count": null,
   "id": "e6cd06f9",
   "metadata": {},
   "outputs": [],
   "source": []
  },
  {
   "cell_type": "markdown",
   "id": "8deb3f45",
   "metadata": {},
   "source": [
    "Cuánta gente viajaba en cada clase?"
   ]
  },
  {
   "cell_type": "code",
   "execution_count": null,
   "id": "d83990c8",
   "metadata": {},
   "outputs": [],
   "source": []
  },
  {
   "cell_type": "markdown",
   "id": "af2d297d",
   "metadata": {},
   "source": [
    "Era más probable sobrevivir siendo de primera clase?"
   ]
  },
  {
   "cell_type": "code",
   "execution_count": null,
   "id": "389b8ec6",
   "metadata": {},
   "outputs": [],
   "source": []
  },
  {
   "cell_type": "markdown",
   "id": "d3a1cd2c",
   "metadata": {},
   "source": [
    "Era más probable sobrevivir siendo mujer?"
   ]
  },
  {
   "cell_type": "code",
   "execution_count": null,
   "id": "e43da29e",
   "metadata": {},
   "outputs": [],
   "source": []
  },
  {
   "cell_type": "markdown",
   "id": "58af5f01",
   "metadata": {},
   "source": [
    "Con cuántos familiares viajaba la gente? (informado en la columna SibSp)"
   ]
  },
  {
   "cell_type": "code",
   "execution_count": null,
   "id": "8184f53b",
   "metadata": {},
   "outputs": [],
   "source": []
  },
  {
   "cell_type": "markdown",
   "id": "63975462",
   "metadata": {},
   "source": [
    "Cuántas puertas de embarque había?"
   ]
  },
  {
   "cell_type": "code",
   "execution_count": null,
   "id": "6583c7cc",
   "metadata": {},
   "outputs": [],
   "source": []
  },
  {
   "cell_type": "markdown",
   "id": "3648d012",
   "metadata": {},
   "source": [
    "Crea un dataframe con las personas que viajaban en primera clase"
   ]
  },
  {
   "cell_type": "code",
   "execution_count": null,
   "id": "ba577b70",
   "metadata": {},
   "outputs": [],
   "source": []
  },
  {
   "cell_type": "markdown",
   "id": "7380da45",
   "metadata": {},
   "source": [
    "Crea un dataframe que contenga mujeres y niños"
   ]
  },
  {
   "cell_type": "code",
   "execution_count": null,
   "id": "c902b328",
   "metadata": {},
   "outputs": [],
   "source": []
  },
  {
   "cell_type": "markdown",
   "id": "dd0f42cf",
   "metadata": {},
   "source": [
    "Crea un dataframe con la gente que no viajara en la `S`"
   ]
  },
  {
   "cell_type": "code",
   "execution_count": null,
   "id": "bba13749",
   "metadata": {},
   "outputs": [],
   "source": []
  },
  {
   "cell_type": "markdown",
   "id": "171d8e9b",
   "metadata": {},
   "source": [
    "Crea un dataframe con todas las \"Miss\""
   ]
  },
  {
   "cell_type": "code",
   "execution_count": null,
   "id": "8bb615ed",
   "metadata": {},
   "outputs": [],
   "source": []
  },
  {
   "cell_type": "markdown",
   "id": "06bb71de",
   "metadata": {},
   "source": [
    "Crea una columna que almacene el primer apellido del pasajero"
   ]
  },
  {
   "cell_type": "code",
   "execution_count": null,
   "id": "77007257",
   "metadata": {},
   "outputs": [],
   "source": []
  },
  {
   "cell_type": "markdown",
   "id": "24deadd2",
   "metadata": {},
   "source": [
    "Crea una columna booleana que almacene si el pasajero es mayor de edad"
   ]
  },
  {
   "cell_type": "code",
   "execution_count": null,
   "id": "db57f6c6",
   "metadata": {},
   "outputs": [],
   "source": []
  },
  {
   "cell_type": "markdown",
   "id": "5e7391b7",
   "metadata": {},
   "source": [
    "Crea una columna con el año de nacimiento del pasajero"
   ]
  },
  {
   "cell_type": "code",
   "execution_count": null,
   "id": "fa055d75",
   "metadata": {},
   "outputs": [],
   "source": []
  },
  {
   "cell_type": "markdown",
   "id": "4d087eaa",
   "metadata": {},
   "source": [
    "Eran más caros los billetes de primera clase?"
   ]
  },
  {
   "cell_type": "code",
   "execution_count": null,
   "id": "00cd0bc2",
   "metadata": {},
   "outputs": [],
   "source": []
  },
  {
   "cell_type": "markdown",
   "id": "9324518d",
   "metadata": {},
   "source": [
    "Eran más jovenes los hombres que las mujeres del titanic?"
   ]
  },
  {
   "cell_type": "code",
   "execution_count": null,
   "id": "830c29ed",
   "metadata": {},
   "outputs": [],
   "source": []
  },
  {
   "cell_type": "markdown",
   "id": "04f41cea",
   "metadata": {},
   "source": [
    "Afectó el número de familiares a la probabilidad de sobrevivir?"
   ]
  },
  {
   "cell_type": "code",
   "execution_count": null,
   "id": "38fd4f57",
   "metadata": {},
   "outputs": [],
   "source": []
  },
  {
   "cell_type": "markdown",
   "id": "04cfb952",
   "metadata": {},
   "source": [
    "Crea una columna que almacene si el número de ticket del pasajero contiene alguna letra. Define para ello una función y usa `apply`"
   ]
  },
  {
   "cell_type": "code",
   "execution_count": null,
   "id": "a1b0f14a",
   "metadata": {},
   "outputs": [],
   "source": []
  },
  {
   "cell_type": "markdown",
   "id": "3767fac9",
   "metadata": {},
   "source": [
    "Exporta los datos a un csv llamado `titanic_enriched.csv`"
   ]
  },
  {
   "cell_type": "code",
   "execution_count": null,
   "id": "788d3b00",
   "metadata": {},
   "outputs": [],
   "source": []
  }
 ],
 "metadata": {
  "kernelspec": {
   "display_name": "Python 3 (ipykernel)",
   "language": "python",
   "name": "python3"
  },
  "language_info": {
   "codemirror_mode": {
    "name": "ipython",
    "version": 3
   },
   "file_extension": ".py",
   "mimetype": "text/x-python",
   "name": "python",
   "nbconvert_exporter": "python",
   "pygments_lexer": "ipython3",
   "version": "3.10.6"
  },
  "toc": {
   "base_numbering": 1,
   "nav_menu": {},
   "number_sections": true,
   "sideBar": true,
   "skip_h1_title": true,
   "title_cell": "Table of Contents",
   "title_sidebar": "Contents",
   "toc_cell": false,
   "toc_position": {
    "height": "calc(100% - 180px)",
    "left": "10px",
    "top": "150px",
    "width": "370px"
   },
   "toc_section_display": true,
   "toc_window_display": false
  },
  "varInspector": {
   "cols": {
    "lenName": 16,
    "lenType": 16,
    "lenVar": 40
   },
   "kernels_config": {
    "python": {
     "delete_cmd_postfix": "",
     "delete_cmd_prefix": "del ",
     "library": "var_list.py",
     "varRefreshCmd": "print(var_dic_list())"
    },
    "r": {
     "delete_cmd_postfix": ") ",
     "delete_cmd_prefix": "rm(",
     "library": "var_list.r",
     "varRefreshCmd": "cat(var_dic_list()) "
    }
   },
   "types_to_exclude": [
    "module",
    "function",
    "builtin_function_or_method",
    "instance",
    "_Feature"
   ],
   "window_display": false
  }
 },
 "nbformat": 4,
 "nbformat_minor": 5
}
